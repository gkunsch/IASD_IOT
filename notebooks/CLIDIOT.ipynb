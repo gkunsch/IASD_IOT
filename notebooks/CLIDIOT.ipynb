{
 "cells": [
  {
   "cell_type": "markdown",
   "metadata": {},
   "source": [
    "# Learning Cost Function for Optimal Transport\n",
    "\n",
    "From https://arxiv.org/pdf/2002.09650.pdf"
   ]
  },
  {
   "cell_type": "code",
   "execution_count": 2,
   "metadata": {},
   "outputs": [],
   "source": [
    "import torch\n",
    "import numpy as np\n",
    "import matplotlib.pyplot as plt\n",
    "import ot\n",
    "from typing import Callable\n",
    "from rich.progress import track\n",
    "\n",
    "from floOTflix.models import MFModel"
   ]
  },
  {
   "cell_type": "markdown",
   "metadata": {},
   "source": [
    "# Generate Toy Dataset\n",
    "\n",
    "To build a toy dataset, we create $r \\in R^m$ and $c \\in R^n$ two random marginal distribution and let $C_{truth} \\in [0, 1]^{m,n}$ be a random cost matrix."
   ]
  },
  {
   "cell_type": "code",
   "execution_count": 3,
   "metadata": {},
   "outputs": [],
   "source": [
    "p = 1\n",
    "m, n = 5, 5\n",
    "k = 2\n",
    "\n",
    "# create random marginal distributions\n",
    "r = 1 + torch.rand(m)\n",
    "c = 1 + torch.rand(n)\n",
    "\n",
    "r /= torch.sum(r)\n",
    "c /= torch.sum(c)\n",
    "\n",
    "# create random cost matrix\n",
    "U_truth = torch.rand(m, k)\n",
    "V_truth = torch.rand(n, k)\n",
    "A_truth = torch.rand(k, k)\n",
    "\n",
    "C_truth = U_truth @ A_truth @ V_truth.t()"
   ]
  },
  {
   "cell_type": "code",
   "execution_count": 4,
   "metadata": {},
   "outputs": [
    {
     "data": {
      "image/png": "[encoded data removed]",
      "text/plain": [
       "<Figure size 432x432 with 4 Axes>"
      ]
     },
     "metadata": {
      "needs_background": "light"
     },
     "output_type": "display_data"
    }
   ],
   "source": [
    "# from https://matplotlib.org/stable/gallery/lines_bars_and_markers/scatter_hist.html\n",
    "\n",
    "# Start with a square Figure.\n",
    "fig = plt.figure(figsize=(6, 6))\n",
    "\n",
    "# Add a gridspec with two rows and two columns and a ratio of 1 to 4 between\n",
    "# the size of the marginal axes and the main axes in both directions.\n",
    "# Also adjust the subplot parameters for a square plot.\n",
    "gs = fig.add_gridspec(2, 2,\n",
    "    width_ratios=(4, 1), height_ratios=(1, 4), left=0.1,\n",
    "    right=0.9, bottom=0.1, top=0.9, wspace=0.05, hspace=0.05)\n",
    "\n",
    "# Create the Axes.\n",
    "ax = fig.add_subplot(gs[1, 0])\n",
    "ax_histx = fig.add_subplot(gs[0, 0], sharex=ax)\n",
    "ax_histy = fig.add_subplot(gs[1, 1], sharey=ax)\n",
    "\n",
    "\n",
    "sp = ax.imshow(C_truth)\n",
    "fig.colorbar(sp, ax=ax)\n",
    "ax.set_title('$C_{truth}$')\n",
    "\n",
    "ax_histx.tick_params(axis='x', labelbottom=False)\n",
    "ax_histx.bar(np.arange(m), r)\n",
    "ax_histx.set_title('$r$')\n",
    "\n",
    "ax_histy.tick_params(axis='y', labelleft=False)\n",
    "ax_histy.barh(np.arange(n), c)\n",
    "ax_histy.set_title('$c$')\n",
    "\n",
    "plt.show()\n"
   ]
  },
  {
   "cell_type": "code",
   "execution_count": null,
   "metadata": {},
   "outputs": [],
   "source": [
    "import seaborn as sns\n",
    "\n",
    "g = sns.jointplot(data=C_truth)\n",
    "g.ax_marg_y.cla()\n",
    "g.ax_marg_x.cla()\n",
    "# sns.heatmap(data=df['Cost Dif.'].to_numpy().reshape(D, H).T, ax=g.ax_joint, cbar=False, cmap='Blues')\n",
    "\n",
    "# g.ax_marg_y.barh(np.arange(0.5, H), df.groupby(['hour'])['Cost Dif.'].sum().to_numpy(), color='navy')\n",
    "# g.ax_marg_x.bar(np.arange(0.5, D), df.groupby(['day'])['Cost Dif.'].sum().to_numpy(), color='navy')\n",
    "\n",
    "# g.ax_joint.set_xticks(np.arange(0.5, D))\n",
    "# g.ax_joint.set_xticklabels(range(1, D + 1), rotation=0)\n",
    "# g.ax_joint.set_yticks(np.arange(0.5, H))\n",
    "# g.ax_joint.set_yticklabels(range(H), rotation=0)\n",
    "\n",
    "# # remove ticks between heatmao and histograms\n",
    "# g.ax_marg_x.tick_params(axis='x', bottom=False, labelbottom=False)\n",
    "# g.ax_marg_y.tick_params(axis='y', left=False, labelleft=False)\n",
    "# # remove ticks showing the heights of the histograms\n",
    "# g.ax_marg_x.tick_params(axis='y', left=False, labelleft=False)\n",
    "# g.ax_marg_y.tick_params(axis='x', bottom=False, labelbottom=False)\n",
    "\n",
    "# g.fig.set_size_inches(20, 8)  # jointplot creates its own figure, the size can only be changed afterwards\n",
    "# # g.fig.subplots_adjust(hspace=0.3) # optionally more space for the tick labels\n",
    "# g.fig.subplots_adjust(hspace=0.05, wspace=0.02)  # less spaced needed when there are no tick labels\n",
    "# plt.show()\n"
   ]
  },
  {
   "cell_type": "code",
   "execution_count": 5,
   "metadata": {},
   "outputs": [
    {
     "name": "stderr",
     "output_type": "stream",
     "text": [
      "/Users/lucasmrdt/.pyenv/versions/3.10.6/lib/python3.10/site-packages/ot/bregman.py:517: UserWarning: Sinkhorn did not converge. You might want to increase the number of iterations `numItermax` or the regularization parameter `reg`.\n",
      "  warnings.warn(\"Sinkhorn did not converge. You might want to \"\n"
     ]
    },
    {
     "data": {
      "image/png": "[encoded data removed]",
      "text/plain": [
       "<Figure size 432x288 with 2 Axes>"
      ]
     },
     "metadata": {
      "needs_background": "light"
     },
     "output_type": "display_data"
    },
    {
     "name": "stdout",
     "output_type": "stream",
     "text": [
      "Min=0.007329804357141256, Max=0.10135013610124588, Sum=1.0\n"
     ]
    }
   ],
   "source": [
    "eps = 1e-1\n",
    "pi_sample = ot.sinkhorn(r, c, C_truth, reg=eps)\n",
    "# pi_sample /= pi_sample.sum()\n",
    "\n",
    "sp = plt.imshow(pi_sample)\n",
    "plt.title('$\\pi_{sample}$')\n",
    "plt.colorbar()\n",
    "plt.show()\n",
    "\n",
    "pi_min = pi_sample.min()\n",
    "pi_max = pi_sample.max()\n",
    "\n",
    "print(f\"Min={pi_min}, Max={pi_max}, Sum={pi_sample.sum()}\")"
   ]
  },
  {
   "cell_type": "code",
   "execution_count": 6,
   "metadata": {},
   "outputs": [
    {
     "data": {
      "image/png": "[encoded data removed]",
      "text/plain": [
       "<Figure size 720x360 with 3 Axes>"
      ]
     },
     "metadata": {
      "needs_background": "light"
     },
     "output_type": "display_data"
    }
   ],
   "source": [
    "k = 5 # dim of latent space\n",
    "\n",
    "N = m * n\n",
    "N_train = int(.7 * N)\n",
    "\n",
    "train_index = np.random.choice(N, N_train, replace=False)\n",
    "test_index = np.setdiff1d(np.arange(N), train_index)\n",
    "\n",
    "train_index = np.unravel_index(train_index, (m, n))\n",
    "test_index = np.unravel_index(test_index, (m, n))\n",
    "\n",
    "X_train = torch.from_numpy(np.array(train_index).T)\n",
    "y_train = pi_sample[train_index]\n",
    "pi_train = pi_sample.clone()\n",
    "pi_train[test_index] = np.nan\n",
    "\n",
    "X_test = torch.from_numpy(np.array(test_index).T)\n",
    "y_test = pi_sample[test_index]\n",
    "pi_test = pi_sample.clone()\n",
    "pi_test[train_index] = np.nan\n",
    "\n",
    "fig, (ax1, ax2) = plt.subplots(1, 2, figsize=(10, 5))\n",
    "ax1.imshow(pi_train, vmin=pi_min, vmax=pi_max)\n",
    "ax1.set_title('$\\pi_{train}$')\n",
    "ax2.imshow(pi_test, vmin=pi_min, vmax=pi_max)\n",
    "ax2.set_title('$\\pi_{test}$')\n",
    "fig.subplots_adjust(right=0.85)\n",
    "cbar_ax = fig.add_axes([0.88, 0.15, 0.04, 0.7])\n",
    "fig.colorbar(sp, cax=cbar_ax)\n",
    "plt.show()"
   ]
  },
  {
   "cell_type": "code",
   "execution_count": 7,
   "metadata": {},
   "outputs": [
    {
     "data": {
      "application/vnd.jupyter.widget-view+json": {
       "model_id": "76e07a7962114a59a48d57223d7609b9",
       "version_major": 2,
       "version_minor": 0
      },
      "text/plain": [
       "Output()"
      ]
     },
     "metadata": {},
     "output_type": "display_data"
    },
    {
     "data": {
      "text/html": [
       "<pre style=\"white-space:pre;overflow-x:auto;line-height:normal;font-family:Menlo,'DejaVu Sans Mono',consolas,'Courier New',monospace\"><span style=\"color: #7fbfbf; text-decoration-color: #7fbfbf\">[16:50:56] </span>Epoch <span style=\"color: #008080; text-decoration-color: #008080; font-weight: bold\">0</span>, train error: <span style=\"color: #008080; text-decoration-color: #008080; font-weight: bold\">1.3093165159225464</span>, test error: <span style=\"color: #008080; text-decoration-color: #008080; font-weight: bold\">1.235261082649231</span>                        <a href=\"file:///Users/lucasmrdt/Documents/Dauphine/M2/ML_project/project-recommendation/floOTflix/models/mf.py\" target=\"_blank\"><span style=\"color: #7f7f7f; text-decoration-color: #7f7f7f\">mf.py</span></a><span style=\"color: #7f7f7f; text-decoration-color: #7f7f7f\">:</span><a href=\"file:///Users/lucasmrdt/Documents/Dauphine/M2/ML_project/project-recommendation/floOTflix/models/mf.py#130\" target=\"_blank\"><span style=\"color: #7f7f7f; text-decoration-color: #7f7f7f\">130</span></a>\n",
       "</pre>\n"
      ],
      "text/plain": [
       "\u001b[2;36m[16:50:56]\u001b[0m\u001b[2;36m \u001b[0mEpoch \u001b[1;36m0\u001b[0m, train error: \u001b[1;36m1.3093165159225464\u001b[0m, test error: \u001b[1;36m1.235261082649231\u001b[0m                        \u001b]8;id=849465;file:///Users/lucasmrdt/Documents/Dauphine/M2/ML_project/project-recommendation/floOTflix/models/mf.py\u001b\\\u001b[2mmf.py\u001b[0m\u001b]8;;\u001b\\\u001b[2m:\u001b[0m\u001b]8;id=607420;file:///Users/lucasmrdt/Documents/Dauphine/M2/ML_project/project-recommendation/floOTflix/models/mf.py#130\u001b\\\u001b[2m130\u001b[0m\u001b]8;;\u001b\\\n"
      ]
     },
     "metadata": {},
     "output_type": "display_data"
    },
    {
     "data": {
      "text/html": [
       "<pre style=\"white-space:pre;overflow-x:auto;line-height:normal;font-family:Menlo,'DejaVu Sans Mono',consolas,'Courier New',monospace\"><span style=\"color: #7fbfbf; text-decoration-color: #7fbfbf\">           </span>Epoch <span style=\"color: #008080; text-decoration-color: #008080; font-weight: bold\">100</span>, train error: <span style=\"color: #008080; text-decoration-color: #008080; font-weight: bold\">0.6745900511741638</span>, test error: <span style=\"color: #008080; text-decoration-color: #008080; font-weight: bold\">0.7221803665161133</span>                     <a href=\"file:///Users/lucasmrdt/Documents/Dauphine/M2/ML_project/project-recommendation/floOTflix/models/mf.py\" target=\"_blank\"><span style=\"color: #7f7f7f; text-decoration-color: #7f7f7f\">mf.py</span></a><span style=\"color: #7f7f7f; text-decoration-color: #7f7f7f\">:</span><a href=\"file:///Users/lucasmrdt/Documents/Dauphine/M2/ML_project/project-recommendation/floOTflix/models/mf.py#130\" target=\"_blank\"><span style=\"color: #7f7f7f; text-decoration-color: #7f7f7f\">130</span></a>\n",
       "</pre>\n"
      ],
      "text/plain": [
       "\u001b[2;36m          \u001b[0m\u001b[2;36m \u001b[0mEpoch \u001b[1;36m100\u001b[0m, train error: \u001b[1;36m0.6745900511741638\u001b[0m, test error: \u001b[1;36m0.7221803665161133\u001b[0m                     \u001b]8;id=424575;file:///Users/lucasmrdt/Documents/Dauphine/M2/ML_project/project-recommendation/floOTflix/models/mf.py\u001b\\\u001b[2mmf.py\u001b[0m\u001b]8;;\u001b\\\u001b[2m:\u001b[0m\u001b]8;id=273345;file:///Users/lucasmrdt/Documents/Dauphine/M2/ML_project/project-recommendation/floOTflix/models/mf.py#130\u001b\\\u001b[2m130\u001b[0m\u001b]8;;\u001b\\\n"
      ]
     },
     "metadata": {},
     "output_type": "display_data"
    },
    {
     "data": {
      "text/html": [
       "<pre style=\"white-space:pre;overflow-x:auto;line-height:normal;font-family:Menlo,'DejaVu Sans Mono',consolas,'Courier New',monospace\"><span style=\"color: #7fbfbf; text-decoration-color: #7fbfbf\">           </span>Epoch <span style=\"color: #008080; text-decoration-color: #008080; font-weight: bold\">200</span>, train error: <span style=\"color: #008080; text-decoration-color: #008080; font-weight: bold\">0.31934088468551636</span>, test error: <span style=\"color: #008080; text-decoration-color: #008080; font-weight: bold\">0.41698870062828064</span>                   <a href=\"file:///Users/lucasmrdt/Documents/Dauphine/M2/ML_project/project-recommendation/floOTflix/models/mf.py\" target=\"_blank\"><span style=\"color: #7f7f7f; text-decoration-color: #7f7f7f\">mf.py</span></a><span style=\"color: #7f7f7f; text-decoration-color: #7f7f7f\">:</span><a href=\"file:///Users/lucasmrdt/Documents/Dauphine/M2/ML_project/project-recommendation/floOTflix/models/mf.py#130\" target=\"_blank\"><span style=\"color: #7f7f7f; text-decoration-color: #7f7f7f\">130</span></a>\n",
       "</pre>\n"
      ],
      "text/plain": [
       "\u001b[2;36m          \u001b[0m\u001b[2;36m \u001b[0mEpoch \u001b[1;36m200\u001b[0m, train error: \u001b[1;36m0.31934088468551636\u001b[0m, test error: \u001b[1;36m0.41698870062828064\u001b[0m                   \u001b]8;id=729897;file:///Users/lucasmrdt/Documents/Dauphine/M2/ML_project/project-recommendation/floOTflix/models/mf.py\u001b\\\u001b[2mmf.py\u001b[0m\u001b]8;;\u001b\\\u001b[2m:\u001b[0m\u001b]8;id=198581;file:///Users/lucasmrdt/Documents/Dauphine/M2/ML_project/project-recommendation/floOTflix/models/mf.py#130\u001b\\\u001b[2m130\u001b[0m\u001b]8;;\u001b\\\n"
      ]
     },
     "metadata": {},
     "output_type": "display_data"
    },
    {
     "data": {
      "text/html": [
       "<pre style=\"white-space:pre;overflow-x:auto;line-height:normal;font-family:Menlo,'DejaVu Sans Mono',consolas,'Courier New',monospace\"><span style=\"color: #7fbfbf; text-decoration-color: #7fbfbf\">           </span>Epoch <span style=\"color: #008080; text-decoration-color: #008080; font-weight: bold\">300</span>, train error: <span style=\"color: #008080; text-decoration-color: #008080; font-weight: bold\">0.12507590651512146</span>, test error: <span style=\"color: #008080; text-decoration-color: #008080; font-weight: bold\">0.2342829555273056</span>                    <a href=\"file:///Users/lucasmrdt/Documents/Dauphine/M2/ML_project/project-recommendation/floOTflix/models/mf.py\" target=\"_blank\"><span style=\"color: #7f7f7f; text-decoration-color: #7f7f7f\">mf.py</span></a><span style=\"color: #7f7f7f; text-decoration-color: #7f7f7f\">:</span><a href=\"file:///Users/lucasmrdt/Documents/Dauphine/M2/ML_project/project-recommendation/floOTflix/models/mf.py#130\" target=\"_blank\"><span style=\"color: #7f7f7f; text-decoration-color: #7f7f7f\">130</span></a>\n",
       "</pre>\n"
      ],
      "text/plain": [
       "\u001b[2;36m          \u001b[0m\u001b[2;36m \u001b[0mEpoch \u001b[1;36m300\u001b[0m, train error: \u001b[1;36m0.12507590651512146\u001b[0m, test error: \u001b[1;36m0.2342829555273056\u001b[0m                    \u001b]8;id=232093;file:///Users/lucasmrdt/Documents/Dauphine/M2/ML_project/project-recommendation/floOTflix/models/mf.py\u001b\\\u001b[2mmf.py\u001b[0m\u001b]8;;\u001b\\\u001b[2m:\u001b[0m\u001b]8;id=963565;file:///Users/lucasmrdt/Documents/Dauphine/M2/ML_project/project-recommendation/floOTflix/models/mf.py#130\u001b\\\u001b[2m130\u001b[0m\u001b]8;;\u001b\\\n"
      ]
     },
     "metadata": {},
     "output_type": "display_data"
    },
    {
     "data": {
      "text/html": [
       "<pre style=\"white-space:pre;overflow-x:auto;line-height:normal;font-family:Menlo,'DejaVu Sans Mono',consolas,'Courier New',monospace\"><span style=\"color: #7fbfbf; text-decoration-color: #7fbfbf\">           </span>Epoch <span style=\"color: #008080; text-decoration-color: #008080; font-weight: bold\">400</span>, train error: <span style=\"color: #008080; text-decoration-color: #008080; font-weight: bold\">0.045891329646110535</span>, test error: <span style=\"color: #008080; text-decoration-color: #008080; font-weight: bold\">0.13439112901687622</span>                  <a href=\"file:///Users/lucasmrdt/Documents/Dauphine/M2/ML_project/project-recommendation/floOTflix/models/mf.py\" target=\"_blank\"><span style=\"color: #7f7f7f; text-decoration-color: #7f7f7f\">mf.py</span></a><span style=\"color: #7f7f7f; text-decoration-color: #7f7f7f\">:</span><a href=\"file:///Users/lucasmrdt/Documents/Dauphine/M2/ML_project/project-recommendation/floOTflix/models/mf.py#130\" target=\"_blank\"><span style=\"color: #7f7f7f; text-decoration-color: #7f7f7f\">130</span></a>\n",
       "</pre>\n"
      ],
      "text/plain": [
       "\u001b[2;36m          \u001b[0m\u001b[2;36m \u001b[0mEpoch \u001b[1;36m400\u001b[0m, train error: \u001b[1;36m0.045891329646110535\u001b[0m, test error: \u001b[1;36m0.13439112901687622\u001b[0m                  \u001b]8;id=415390;file:///Users/lucasmrdt/Documents/Dauphine/M2/ML_project/project-recommendation/floOTflix/models/mf.py\u001b\\\u001b[2mmf.py\u001b[0m\u001b]8;;\u001b\\\u001b[2m:\u001b[0m\u001b]8;id=780744;file:///Users/lucasmrdt/Documents/Dauphine/M2/ML_project/project-recommendation/floOTflix/models/mf.py#130\u001b\\\u001b[2m130\u001b[0m\u001b]8;;\u001b\\\n"
      ]
     },
     "metadata": {},
     "output_type": "display_data"
    },
    {
     "data": {
      "text/html": [
       "<pre style=\"white-space:pre;overflow-x:auto;line-height:normal;font-family:Menlo,'DejaVu Sans Mono',consolas,'Courier New',monospace\"><span style=\"color: #7fbfbf; text-decoration-color: #7fbfbf\">           </span>Epoch <span style=\"color: #008080; text-decoration-color: #008080; font-weight: bold\">500</span>, train error: <span style=\"color: #008080; text-decoration-color: #008080; font-weight: bold\">0.02200292982161045</span>, test error: <span style=\"color: #008080; text-decoration-color: #008080; font-weight: bold\">0.09121523797512054</span>                   <a href=\"file:///Users/lucasmrdt/Documents/Dauphine/M2/ML_project/project-recommendation/floOTflix/models/mf.py\" target=\"_blank\"><span style=\"color: #7f7f7f; text-decoration-color: #7f7f7f\">mf.py</span></a><span style=\"color: #7f7f7f; text-decoration-color: #7f7f7f\">:</span><a href=\"file:///Users/lucasmrdt/Documents/Dauphine/M2/ML_project/project-recommendation/floOTflix/models/mf.py#130\" target=\"_blank\"><span style=\"color: #7f7f7f; text-decoration-color: #7f7f7f\">130</span></a>\n",
       "</pre>\n"
      ],
      "text/plain": [
       "\u001b[2;36m          \u001b[0m\u001b[2;36m \u001b[0mEpoch \u001b[1;36m500\u001b[0m, train error: \u001b[1;36m0.02200292982161045\u001b[0m, test error: \u001b[1;36m0.09121523797512054\u001b[0m                   \u001b]8;id=51054;file:///Users/lucasmrdt/Documents/Dauphine/M2/ML_project/project-recommendation/floOTflix/models/mf.py\u001b\\\u001b[2mmf.py\u001b[0m\u001b]8;;\u001b\\\u001b[2m:\u001b[0m\u001b]8;id=788723;file:///Users/lucasmrdt/Documents/Dauphine/M2/ML_project/project-recommendation/floOTflix/models/mf.py#130\u001b\\\u001b[2m130\u001b[0m\u001b]8;;\u001b\\\n"
      ]
     },
     "metadata": {},
     "output_type": "display_data"
    },
    {
     "data": {
      "text/html": [
       "<pre style=\"white-space:pre;overflow-x:auto;line-height:normal;font-family:Menlo,'DejaVu Sans Mono',consolas,'Courier New',monospace\"><span style=\"color: #7fbfbf; text-decoration-color: #7fbfbf\">           </span>Epoch <span style=\"color: #008080; text-decoration-color: #008080; font-weight: bold\">600</span>, train error: <span style=\"color: #008080; text-decoration-color: #008080; font-weight: bold\">0.009284676983952522</span>, test error: <span style=\"color: #008080; text-decoration-color: #008080; font-weight: bold\">0.071234330534935</span>                    <a href=\"file:///Users/lucasmrdt/Documents/Dauphine/M2/ML_project/project-recommendation/floOTflix/models/mf.py\" target=\"_blank\"><span style=\"color: #7f7f7f; text-decoration-color: #7f7f7f\">mf.py</span></a><span style=\"color: #7f7f7f; text-decoration-color: #7f7f7f\">:</span><a href=\"file:///Users/lucasmrdt/Documents/Dauphine/M2/ML_project/project-recommendation/floOTflix/models/mf.py#130\" target=\"_blank\"><span style=\"color: #7f7f7f; text-decoration-color: #7f7f7f\">130</span></a>\n",
       "</pre>\n"
      ],
      "text/plain": [
       "\u001b[2;36m          \u001b[0m\u001b[2;36m \u001b[0mEpoch \u001b[1;36m600\u001b[0m, train error: \u001b[1;36m0.009284676983952522\u001b[0m, test error: \u001b[1;36m0.071234330534935\u001b[0m                    \u001b]8;id=439051;file:///Users/lucasmrdt/Documents/Dauphine/M2/ML_project/project-recommendation/floOTflix/models/mf.py\u001b\\\u001b[2mmf.py\u001b[0m\u001b]8;;\u001b\\\u001b[2m:\u001b[0m\u001b]8;id=447194;file:///Users/lucasmrdt/Documents/Dauphine/M2/ML_project/project-recommendation/floOTflix/models/mf.py#130\u001b\\\u001b[2m130\u001b[0m\u001b]8;;\u001b\\\n"
      ]
     },
     "metadata": {},
     "output_type": "display_data"
    },
    {
     "data": {
      "text/html": [
       "<pre style=\"white-space:pre;overflow-x:auto;line-height:normal;font-family:Menlo,'DejaVu Sans Mono',consolas,'Courier New',monospace\"><span style=\"color: #7fbfbf; text-decoration-color: #7fbfbf\">           </span>Epoch <span style=\"color: #008080; text-decoration-color: #008080; font-weight: bold\">700</span>, train error: <span style=\"color: #008080; text-decoration-color: #008080; font-weight: bold\">0.0025240762624889612</span>, test error: <span style=\"color: #008080; text-decoration-color: #008080; font-weight: bold\">0.0625406876206398</span>                  <a href=\"file:///Users/lucasmrdt/Documents/Dauphine/M2/ML_project/project-recommendation/floOTflix/models/mf.py\" target=\"_blank\"><span style=\"color: #7f7f7f; text-decoration-color: #7f7f7f\">mf.py</span></a><span style=\"color: #7f7f7f; text-decoration-color: #7f7f7f\">:</span><a href=\"file:///Users/lucasmrdt/Documents/Dauphine/M2/ML_project/project-recommendation/floOTflix/models/mf.py#130\" target=\"_blank\"><span style=\"color: #7f7f7f; text-decoration-color: #7f7f7f\">130</span></a>\n",
       "</pre>\n"
      ],
      "text/plain": [
       "\u001b[2;36m          \u001b[0m\u001b[2;36m \u001b[0mEpoch \u001b[1;36m700\u001b[0m, train error: \u001b[1;36m0.0025240762624889612\u001b[0m, test error: \u001b[1;36m0.0625406876206398\u001b[0m                  \u001b]8;id=308315;file:///Users/lucasmrdt/Documents/Dauphine/M2/ML_project/project-recommendation/floOTflix/models/mf.py\u001b\\\u001b[2mmf.py\u001b[0m\u001b]8;;\u001b\\\u001b[2m:\u001b[0m\u001b]8;id=373026;file:///Users/lucasmrdt/Documents/Dauphine/M2/ML_project/project-recommendation/floOTflix/models/mf.py#130\u001b\\\u001b[2m130\u001b[0m\u001b]8;;\u001b\\\n"
      ]
     },
     "metadata": {},
     "output_type": "display_data"
    },
    {
     "data": {
      "text/html": [
       "<pre style=\"white-space:pre;overflow-x:auto;line-height:normal;font-family:Menlo,'DejaVu Sans Mono',consolas,'Courier New',monospace\"><span style=\"color: #7fbfbf; text-decoration-color: #7fbfbf\">[16:50:57] </span>Epoch <span style=\"color: #008080; text-decoration-color: #008080; font-weight: bold\">800</span>, train error: <span style=\"color: #008080; text-decoration-color: #008080; font-weight: bold\">0.0002091692731482908</span>, test error: <span style=\"color: #008080; text-decoration-color: #008080; font-weight: bold\">0.056431837379932404</span>                <a href=\"file:///Users/lucasmrdt/Documents/Dauphine/M2/ML_project/project-recommendation/floOTflix/models/mf.py\" target=\"_blank\"><span style=\"color: #7f7f7f; text-decoration-color: #7f7f7f\">mf.py</span></a><span style=\"color: #7f7f7f; text-decoration-color: #7f7f7f\">:</span><a href=\"file:///Users/lucasmrdt/Documents/Dauphine/M2/ML_project/project-recommendation/floOTflix/models/mf.py#130\" target=\"_blank\"><span style=\"color: #7f7f7f; text-decoration-color: #7f7f7f\">130</span></a>\n",
       "</pre>\n"
      ],
      "text/plain": [
       "\u001b[2;36m[16:50:57]\u001b[0m\u001b[2;36m \u001b[0mEpoch \u001b[1;36m800\u001b[0m, train error: \u001b[1;36m0.0002091692731482908\u001b[0m, test error: \u001b[1;36m0.056431837379932404\u001b[0m                \u001b]8;id=342421;file:///Users/lucasmrdt/Documents/Dauphine/M2/ML_project/project-recommendation/floOTflix/models/mf.py\u001b\\\u001b[2mmf.py\u001b[0m\u001b]8;;\u001b\\\u001b[2m:\u001b[0m\u001b]8;id=670681;file:///Users/lucasmrdt/Documents/Dauphine/M2/ML_project/project-recommendation/floOTflix/models/mf.py#130\u001b\\\u001b[2m130\u001b[0m\u001b]8;;\u001b\\\n"
      ]
     },
     "metadata": {},
     "output_type": "display_data"
    },
    {
     "data": {
      "text/html": [
       "<pre style=\"white-space:pre;overflow-x:auto;line-height:normal;font-family:Menlo,'DejaVu Sans Mono',consolas,'Courier New',monospace\"><span style=\"color: #7fbfbf; text-decoration-color: #7fbfbf\">           </span>Epoch <span style=\"color: #008080; text-decoration-color: #008080; font-weight: bold\">900</span>, train error: <span style=\"color: #008080; text-decoration-color: #008080; font-weight: bold\">0.00016781091107986867</span>, test error: <span style=\"color: #008080; text-decoration-color: #008080; font-weight: bold\">0.04915926232933998</span>                <a href=\"file:///Users/lucasmrdt/Documents/Dauphine/M2/ML_project/project-recommendation/floOTflix/models/mf.py\" target=\"_blank\"><span style=\"color: #7f7f7f; text-decoration-color: #7f7f7f\">mf.py</span></a><span style=\"color: #7f7f7f; text-decoration-color: #7f7f7f\">:</span><a href=\"file:///Users/lucasmrdt/Documents/Dauphine/M2/ML_project/project-recommendation/floOTflix/models/mf.py#130\" target=\"_blank\"><span style=\"color: #7f7f7f; text-decoration-color: #7f7f7f\">130</span></a>\n",
       "</pre>\n"
      ],
      "text/plain": [
       "\u001b[2;36m          \u001b[0m\u001b[2;36m \u001b[0mEpoch \u001b[1;36m900\u001b[0m, train error: \u001b[1;36m0.00016781091107986867\u001b[0m, test error: \u001b[1;36m0.04915926232933998\u001b[0m                \u001b]8;id=236784;file:///Users/lucasmrdt/Documents/Dauphine/M2/ML_project/project-recommendation/floOTflix/models/mf.py\u001b\\\u001b[2mmf.py\u001b[0m\u001b]8;;\u001b\\\u001b[2m:\u001b[0m\u001b]8;id=452583;file:///Users/lucasmrdt/Documents/Dauphine/M2/ML_project/project-recommendation/floOTflix/models/mf.py#130\u001b\\\u001b[2m130\u001b[0m\u001b]8;;\u001b\\\n"
      ]
     },
     "metadata": {},
     "output_type": "display_data"
    },
    {
     "data": {
      "text/html": [
       "<pre style=\"white-space:pre;overflow-x:auto;line-height:normal;font-family:Menlo,'DejaVu Sans Mono',consolas,'Courier New',monospace\"></pre>\n"
      ],
      "text/plain": []
     },
     "metadata": {},
     "output_type": "display_data"
    },
    {
     "data": {
      "text/html": [
       "<pre style=\"white-space:pre;overflow-x:auto;line-height:normal;font-family:Menlo,'DejaVu Sans Mono',consolas,'Courier New',monospace\">\n",
       "</pre>\n"
      ],
      "text/plain": [
       "\n"
      ]
     },
     "metadata": {},
     "output_type": "display_data"
    },
    {
     "name": "stdout",
     "output_type": "stream",
     "text": [
      "U: torch.Size([5, 5]) V: torch.Size([5, 5])\n",
      "MFModel score: 0.043214596807956696\n"
     ]
    }
   ],
   "source": [
    "mf_model = MFModel(m, n, k)\n",
    "mf_model.fit(X_train, y_train, X_test, y_test, n_epochs=1000)\n",
    "\n",
    "U, V = mf_model.U, mf_model.V\n",
    "print(f'U: {U.shape} V: {V.shape}')\n",
    "\n",
    "score = mf_model.score(X_test, y_test)\n",
    "print(f\"MFModel score: {score}\")"
   ]
  },
  {
   "cell_type": "code",
   "execution_count": 8,
   "metadata": {},
   "outputs": [
    {
     "name": "stdout",
     "output_type": "stream",
     "text": [
      "Min=0.03441593796014786, Max=0.12073466181755066\n"
     ]
    },
    {
     "data": {
      "image/png": "[encoded data removed]",
      "text/plain": [
       "<Figure size 720x360 with 3 Axes>"
      ]
     },
     "metadata": {
      "needs_background": "light"
     },
     "output_type": "display_data"
    }
   ],
   "source": [
    "y_pred = mf_model.predict(X_test).detach()\n",
    "\n",
    "pi_pred = torch.zeros(m, n) * np.nan\n",
    "pi_pred[X_test[:,0], X_test[:,1]] = y_pred\n",
    "\n",
    "print(f\"Min={y_pred.min()}, Max={y_pred.max()}\")\n",
    "\n",
    "fig, (ax1, ax2) = plt.subplots(1, 2, figsize=(10, 5))\n",
    "ax1.imshow(pi_test, vmin=pi_min, vmax=pi_max)\n",
    "ax1.set_title('$\\pi_{test}$')\n",
    "ax2.imshow(pi_pred, vmin=pi_min, vmax=pi_max)\n",
    "ax2.set_title('$\\pi_{pred}$')\n",
    "fig.suptitle(f'MF results (MSE={score:.3f})')\n",
    "fig.subplots_adjust(right=0.85)\n",
    "cbar_ax = fig.add_axes([0.88, 0.15, 0.04, 0.7])\n",
    "fig.colorbar(sp, cax=cbar_ax)\n",
    "plt.show()"
   ]
  },
  {
   "cell_type": "markdown",
   "metadata": {},
   "source": [
    "# CLIDIOT (Cost Learning in Discrete Inverse OT) Algorithm\n"
   ]
  },
  {
   "cell_type": "code",
   "execution_count": 21,
   "metadata": {},
   "outputs": [],
   "source": [
    "\n",
    "def CLIDIOT(pi_sample, prox_fn: Callable[[torch.TensorType], torch.TensorType], c_init, alpha_init, beta_init, eps=1e-1, max_iter=100, num_eps=1e-6):\n",
    "    m, n = pi_sample.shape\n",
    "    mu, nu = pi_sample@torch.ones(m), pi_sample.t()@torch.ones(n)\n",
    "    # c = torch.rand(m, n)\n",
    "    c, alpha, beta = c_init, alpha_init, beta_init\n",
    "    u, v = torch.exp(alpha / eps), torch.exp(beta / eps)\n",
    "    # u, v = torch.rand((m,1)), torch.rand((n,1))\n",
    "    # c = c0\n",
    "    # print(c0)\n",
    "    # print(u, v)\n",
    "    for _ in range(max_iter):\n",
    "    # for _ in track(range(max_iter), description='CLIDIOT'):\n",
    "        K = torch.exp(-c / eps)\n",
    "        u = mu / (K@v + num_eps)\n",
    "        v = nu / (K.t()@u + num_eps)\n",
    "        # K = pi_sample / (torch.outer(u, v.t()) + num_eps)\n",
    "        K = pi_sample / (u@v.t() + num_eps)\n",
    "        c = prox_fn(K + num_eps)\n",
    "    return c\n",
    "\n",
    "def CLIDIOT_symmetric(pi_sample, eps=1e-1, max_iter=100, delta=1e-2):\n",
    "    def prox_fn(K):\n",
    "        c_hat = -eps * torch.log(K)\n",
    "        return (c_hat + c_hat.t())/2\n",
    "\n",
    "    m, n = pi_sample.shape\n",
    "    c0 = torch.ones((m,n)) - torch.eye(m)\n",
    "    return CLIDIOT(pi_sample, prox_fn, c0, eps, max_iter, delta)\n",
    "\n",
    "def CLIDIOT_affinity(pi_sample, U, V, eps=1e-1, max_iter=100, delta=1e-2):\n",
    "    U_inv = torch.linalg.pinv(U)\n",
    "    V_inv = torch.linalg.pinv(V)\n",
    "    k = U.shape[1]\n",
    "    assert k == V.shape[1]\n",
    "    A_init = torch.rand(k, k)\n",
    "    c_init = U @ A_init @ V.t()\n",
    "    alpha_init = torch.rand(U.shape[0])\n",
    "    beta_init = torch.rand(V.shape[0])\n",
    "\n",
    "    def prox_fn(K):\n",
    "        return U @ U_inv @ (-eps * torch.log(K)) @ V_inv.t() @ V.t()\n",
    "\n",
    "    return CLIDIOT(pi_sample, prox_fn=prox_fn, c_init=c_init, alpha_init=alpha_init, beta_init=beta_init, eps=eps, max_iter=max_iter)"
   ]
  },
  {
   "cell_type": "code",
   "execution_count": 29,
   "metadata": {},
   "outputs": [
    {
     "data": {
      "image/png": "[encoded data removed]",
      "text/plain": [
       "<Figure size 720x360 with 3 Axes>"
      ]
     },
     "metadata": {
      "needs_background": "light"
     },
     "output_type": "display_data"
    }
   ],
   "source": [
    "# C_pred = CLIDIOT_affinity(torch.nan_to_num(pi_train), U_truth, V_truth, max_iter=10000, eps=1e-2)\n",
    "C_pred = CLIDIOT_affinity(pi_sample, U_truth, V_truth, max_iter=10000, eps=1e-2)\n",
    "C_pred = C_pred.detach().numpy()\n",
    "\n",
    "fig, (ax1, ax2) = plt.subplots(1, 2, figsize=(10, 5))\n",
    "ax1.imshow(C_truth)\n",
    "ax1.set_title('$C_{truth}$')\n",
    "ax2.imshow(C_pred)\n",
    "ax2.set_title('$C_{pred}$')\n",
    "fig.subplots_adjust(right=0.85)\n",
    "cbar_ax = fig.add_axes([0.88, 0.15, 0.04, 0.7])\n",
    "fig.colorbar(sp, cax=cbar_ax)\n",
    "plt.show()"
   ]
  },
  {
   "cell_type": "code",
   "execution_count": 15,
   "metadata": {},
   "outputs": [
    {
     "name": "stdout",
     "output_type": "stream",
     "text": [
      "CLIDIOT Score: 0.024624632087759904\n"
     ]
    }
   ],
   "source": [
    "eps = 1e0\n",
    "pi_pred = ot.sinkhorn(np.ones(m)/m, np.ones(n)/n, C_pred, reg=eps)\n",
    "pi_pred = torch.from_numpy(pi_pred)\n",
    "pi_pred_min, pi_pred_max = pi_pred[test_index].min(), pi_pred[test_index].max()\n",
    "pi_pred[train_index] = np.nan\n",
    "\n",
    "# rescale\n",
    "pi_pred = pi_min + (pi_pred - pi_pred_min) / (pi_pred_max - pi_pred_min) * (pi_max - pi_min)\n",
    "\n",
    "score = torch.sqrt((pi_pred[test_index] - pi_sample[test_index]).pow(2).mean())\n",
    "print(f\"CLIDIOT Score: {score}\")"
   ]
  },
  {
   "cell_type": "code",
   "execution_count": 16,
   "metadata": {},
   "outputs": [
    {
     "data": {
      "image/png": "[encoded data removed]",
      "text/plain": [
       "<Figure size 720x360 with 3 Axes>"
      ]
     },
     "metadata": {
      "needs_background": "light"
     },
     "output_type": "display_data"
    }
   ],
   "source": [
    "fig, (ax1, ax2) = plt.subplots(1, 2, figsize=(10, 5))\n",
    "ax1.imshow(pi_test, vmin=pi_min, vmax=pi_max)\n",
    "ax1.set_title('$\\pi_{test}$')\n",
    "ax2.imshow(pi_pred, vmin=pi_min, vmax=pi_max)\n",
    "ax2.set_title('$\\pi_{pred}$')\n",
    "fig.suptitle(f'CLIDIOT results (MSE={score:.3f})')\n",
    "fig.subplots_adjust(right=0.85)\n",
    "cbar_ax = fig.add_axes([0.88, 0.15, 0.04, 0.7])\n",
    "fig.colorbar(sp, cax=cbar_ax)\n",
    "plt.show()"
   ]
  },
  {
   "cell_type": "code",
   "execution_count": 326,
   "metadata": {},
   "outputs": [],
   "source": [
    "# def algo_paper(P, G, D, mu = None, nu = None, niter = 500, eps = 10, eps_num = 0.000001):\n",
    "#   \"\"\"\n",
    "#   P is mxn; mu m dim; alpha m dim; vu n dim; beta n dim\n",
    "#   \"\"\"\n",
    "#   m, n = P.shape\n",
    "#   mu, nu = P @ np.ones((m, 1)), (P.T @ np.ones((n, 1)))\n",
    "\n",
    "#   C = np.random.random((m, n))\n",
    "#   alpha = mu\n",
    "#   beta = nu\n",
    "#   u = np.exp(alpha/eps)\n",
    "#   v = np.exp(beta/eps)\n",
    "#   G_pseudoinv_trans = np.linalg.pinv(G)\n",
    "#   D_pseudoinv = np.linalg.pinv(D)\n",
    "#   for it in range(niter):\n",
    "#     K=np.exp(-1/eps*C)\n",
    "#     u=mu/(np.dot(K,v) + eps_num)\n",
    "#     v=nu/(np.dot(K.T,u) + eps_num)\n",
    "#     K=P/(np.outer(u,v.T) + eps_num)\n",
    "#     C=-eps*np.log(K+eps_num)\n",
    "#     C = G @ G_pseudoinv_trans @ C @ D_pseudoinv.T @ D.T\n",
    "#   return C\n",
    "\n",
    "# C_pred = algo_paper(pi_sample.detach().numpy(), U.detach().numpy(), V.detach().numpy(), niter=10000)\n",
    "# C_pred"
   ]
  },
  {
   "cell_type": "code",
   "execution_count": null,
   "metadata": {},
   "outputs": [],
   "source": []
  },
  {
   "cell_type": "code",
   "execution_count": null,
   "metadata": {},
   "outputs": [],
   "source": []
  }
 ],
 "metadata": {
  "kernelspec": {
   "display_name": "Python 3.10.6 64-bit ('3.10.6')",
   "language": "python",
   "name": "python3"
  },
  "language_info": {
   "codemirror_mode": {
    "name": "ipython",
    "version": 3
   },
   "file_extension": ".py",
   "mimetype": "text/x-python",
   "name": "python",
   "nbconvert_exporter": "python",
   "pygments_lexer": "ipython3",
   "version": "3.10.6"
  },
  "orig_nbformat": 4,
  "vscode": {
   "interpreter": {
    "hash": "3b6b6b371573529cf649067b971942e9de50150bba59427ae37d9fbde90d94a0"
   }
  }
 },
 "nbformat": 4,
 "nbformat_minor": 2
}
