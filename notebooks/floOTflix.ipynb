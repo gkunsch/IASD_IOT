{
 "cells": [
  {
   "cell_type": "code",
   "execution_count": 1,
   "metadata": {},
   "outputs": [],
   "source": [
    "import random\n",
    "import numpy as np\n",
    "from rich.table import Table\n",
    "\n",
    "from floOTflix.loader import get_dataset\n",
    "from floOTflix.models import MFModel, RIOTModel\n",
    "from floOTflix.logger import console\n",
    "from floOTflix.constants import device"
   ]
  },
  {
   "cell_type": "code",
   "execution_count": 2,
   "metadata": {},
   "outputs": [
    {
     "data": {
      "text/html": [
       "<pre style=\"white-space:pre;overflow-x:auto;line-height:normal;font-family:Menlo,'DejaVu Sans Mono',consolas,'Courier New',monospace\"><span style=\"color: #7fbfbf; text-decoration-color: #7fbfbf\">[19:44:14] </span>random seed: <span style=\"color: #008080; text-decoration-color: #008080; font-weight: bold\">42</span>, device: cpu                                                              <a href=\"file:///var/folders/23/phdc9zdx6bd4kxsb9bfjxbmc0000gn/T/ipykernel_40112/467932572.py\" target=\"_blank\"><span style=\"color: #7f7f7f; text-decoration-color: #7f7f7f\">467932572.py</span></a><span style=\"color: #7f7f7f; text-decoration-color: #7f7f7f\">:</span><a href=\"file:///var/folders/23/phdc9zdx6bd4kxsb9bfjxbmc0000gn/T/ipykernel_40112/467932572.py#5\" target=\"_blank\"><span style=\"color: #7f7f7f; text-decoration-color: #7f7f7f\">5</span></a>\n",
       "</pre>\n"
      ],
      "text/plain": [
       "\u001b[2;36m[19:44:14]\u001b[0m\u001b[2;36m \u001b[0mrandom seed: \u001b[1;36m42\u001b[0m, device: cpu                                                              \u001b]8;id=234053;file:///var/folders/23/phdc9zdx6bd4kxsb9bfjxbmc0000gn/T/ipykernel_40112/467932572.py\u001b\\\u001b[2m467932572.py\u001b[0m\u001b]8;;\u001b\\\u001b[2m:\u001b[0m\u001b]8;id=146316;file:///var/folders/23/phdc9zdx6bd4kxsb9bfjxbmc0000gn/T/ipykernel_40112/467932572.py#5\u001b\\\u001b[2m5\u001b[0m\u001b]8;;\u001b\\\n"
      ]
     },
     "metadata": {},
     "output_type": "display_data"
    },
    {
     "data": {
      "application/vnd.jupyter.widget-view+json": {
       "model_id": "5cc5c33303b340e39f0c8e65a2ea0052",
       "version_major": 2,
       "version_minor": 0
      },
      "text/plain": [
       "Output()"
      ]
     },
     "metadata": {},
     "output_type": "display_data"
    },
    {
     "data": {
      "text/html": [
       "<pre style=\"white-space:pre;overflow-x:auto;line-height:normal;font-family:Menlo,'DejaVu Sans Mono',consolas,'Courier New',monospace\"></pre>\n"
      ],
      "text/plain": []
     },
     "metadata": {},
     "output_type": "display_data"
    },
    {
     "data": {
      "text/html": [
       "<pre style=\"white-space:pre;overflow-x:auto;line-height:normal;font-family:Menlo,'DejaVu Sans Mono',consolas,'Courier New',monospace\"><span style=\"color: #7fbfbf; text-decoration-color: #7fbfbf\">[19:44:16] </span>Data loaded <span style=\"font-weight: bold\">(</span><span style=\"color: #008080; text-decoration-color: #008080; font-weight: bold\">610</span> users, <span style=\"color: #008080; text-decoration-color: #008080; font-weight: bold\">9724</span> movies and <span style=\"color: #008080; text-decoration-color: #008080; font-weight: bold\">96045</span> ratings<span style=\"font-weight: bold\">)</span>.                                  <a href=\"file:///var/folders/23/phdc9zdx6bd4kxsb9bfjxbmc0000gn/T/ipykernel_40112/467932572.py\" target=\"_blank\"><span style=\"color: #7f7f7f; text-decoration-color: #7f7f7f\">467932572.py</span></a><span style=\"color: #7f7f7f; text-decoration-color: #7f7f7f\">:</span><a href=\"file:///var/folders/23/phdc9zdx6bd4kxsb9bfjxbmc0000gn/T/ipykernel_40112/467932572.py#10\" target=\"_blank\"><span style=\"color: #7f7f7f; text-decoration-color: #7f7f7f\">10</span></a>\n",
       "</pre>\n"
      ],
      "text/plain": [
       "\u001b[2;36m[19:44:16]\u001b[0m\u001b[2;36m \u001b[0mData loaded \u001b[1m(\u001b[0m\u001b[1;36m610\u001b[0m users, \u001b[1;36m9724\u001b[0m movies and \u001b[1;36m96045\u001b[0m ratings\u001b[1m)\u001b[0m.                                  \u001b]8;id=571858;file:///var/folders/23/phdc9zdx6bd4kxsb9bfjxbmc0000gn/T/ipykernel_40112/467932572.py\u001b\\\u001b[2m467932572.py\u001b[0m\u001b]8;;\u001b\\\u001b[2m:\u001b[0m\u001b]8;id=91161;file:///var/folders/23/phdc9zdx6bd4kxsb9bfjxbmc0000gn/T/ipykernel_40112/467932572.py#10\u001b\\\u001b[2m10\u001b[0m\u001b]8;;\u001b\\\n"
      ]
     },
     "metadata": {},
     "output_type": "display_data"
    },
    {
     "data": {
      "text/html": [
       "<pre style=\"white-space:pre;overflow-x:auto;line-height:normal;font-family:Menlo,'DejaVu Sans Mono',consolas,'Courier New',monospace\"><span style=\"color: #7fbfbf; text-decoration-color: #7fbfbf\">           </span>┏━━━━━━━━━┳━━━━━━━━━━━━━━━━━━━━━━━━┓                                                     <a href=\"file:///var/folders/23/phdc9zdx6bd4kxsb9bfjxbmc0000gn/T/ipykernel_40112/467932572.py\" target=\"_blank\"><span style=\"color: #7f7f7f; text-decoration-color: #7f7f7f\">467932572.py</span></a><span style=\"color: #7f7f7f; text-decoration-color: #7f7f7f\">:</span><a href=\"file:///var/folders/23/phdc9zdx6bd4kxsb9bfjxbmc0000gn/T/ipykernel_40112/467932572.py#19\" target=\"_blank\"><span style=\"color: #7f7f7f; text-decoration-color: #7f7f7f\">19</span></a>\n",
       "<span style=\"color: #7fbfbf; text-decoration-color: #7fbfbf\">           </span>┃<span style=\"font-weight: bold\"> Data    </span>┃<span style=\"font-weight: bold\"> Shape                  </span>┃                                                     <span style=\"color: #7f7f7f; text-decoration-color: #7f7f7f\">               </span>\n",
       "<span style=\"color: #7fbfbf; text-decoration-color: #7fbfbf\">           </span>┡━━━━━━━━━╇━━━━━━━━━━━━━━━━━━━━━━━━┩                                                     <span style=\"color: #7f7f7f; text-decoration-color: #7f7f7f\">               </span>\n",
       "<span style=\"color: #7fbfbf; text-decoration-color: #7fbfbf\">           </span>│ X_train │ torch.Size([96045, 2]) │                                                     <span style=\"color: #7f7f7f; text-decoration-color: #7f7f7f\">               </span>\n",
       "<span style=\"color: #7fbfbf; text-decoration-color: #7fbfbf\">           </span>│ y_train │ torch.Size([96045])    │                                                     <span style=\"color: #7f7f7f; text-decoration-color: #7f7f7f\">               </span>\n",
       "<span style=\"color: #7fbfbf; text-decoration-color: #7fbfbf\">           </span>│ X_test  │ torch.Size([610, 2])   │                                                     <span style=\"color: #7f7f7f; text-decoration-color: #7f7f7f\">               </span>\n",
       "<span style=\"color: #7fbfbf; text-decoration-color: #7fbfbf\">           </span>│ y_test  │ torch.Size([610])      │                                                     <span style=\"color: #7f7f7f; text-decoration-color: #7f7f7f\">               </span>\n",
       "<span style=\"color: #7fbfbf; text-decoration-color: #7fbfbf\">           </span>└─────────┴────────────────────────┘                                                     <span style=\"color: #7f7f7f; text-decoration-color: #7f7f7f\">               </span>\n",
       "</pre>\n"
      ],
      "text/plain": [
       "\u001b[2;36m          \u001b[0m\u001b[2;36m \u001b[0m┏━━━━━━━━━┳━━━━━━━━━━━━━━━━━━━━━━━━┓                                                     \u001b]8;id=229258;file:///var/folders/23/phdc9zdx6bd4kxsb9bfjxbmc0000gn/T/ipykernel_40112/467932572.py\u001b\\\u001b[2m467932572.py\u001b[0m\u001b]8;;\u001b\\\u001b[2m:\u001b[0m\u001b]8;id=243962;file:///var/folders/23/phdc9zdx6bd4kxsb9bfjxbmc0000gn/T/ipykernel_40112/467932572.py#19\u001b\\\u001b[2m19\u001b[0m\u001b]8;;\u001b\\\n",
       "\u001b[2;36m           \u001b[0m┃\u001b[1m \u001b[0m\u001b[1mData   \u001b[0m\u001b[1m \u001b[0m┃\u001b[1m \u001b[0m\u001b[1mShape                 \u001b[0m\u001b[1m \u001b[0m┃                                                     \u001b[2m               \u001b[0m\n",
       "\u001b[2;36m           \u001b[0m┡━━━━━━━━━╇━━━━━━━━━━━━━━━━━━━━━━━━┩                                                     \u001b[2m               \u001b[0m\n",
       "\u001b[2;36m           \u001b[0m│ X_train │ torch.Size([96045, 2]) │                                                     \u001b[2m               \u001b[0m\n",
       "\u001b[2;36m           \u001b[0m│ y_train │ torch.Size([96045])    │                                                     \u001b[2m               \u001b[0m\n",
       "\u001b[2;36m           \u001b[0m│ X_test  │ torch.Size([610, 2])   │                                                     \u001b[2m               \u001b[0m\n",
       "\u001b[2;36m           \u001b[0m│ y_test  │ torch.Size([610])      │                                                     \u001b[2m               \u001b[0m\n",
       "\u001b[2;36m           \u001b[0m└─────────┴────────────────────────┘                                                     \u001b[2m               \u001b[0m\n"
      ]
     },
     "metadata": {},
     "output_type": "display_data"
    }
   ],
   "source": [
    "seed = 42  # TODO: use args\n",
    "\n",
    "random.seed(seed)  # To ensure the same data split between experiments.\n",
    "\n",
    "console.log(f'random seed: {seed}, device: {device}')\n",
    "\n",
    "with console.status('Loading data...'):\n",
    "    (X_train, y_train), (X_test, y_test), (m, n) = get_dataset()\n",
    "\n",
    "console.log(\n",
    "    f'Data loaded ({m} users, {n} movies and {len(X_train)} ratings).')\n",
    "data_tab = Table()\n",
    "data_tab.add_column('Data')\n",
    "data_tab.add_column('Shape')\n",
    "data_tab.add_row('X_train', str(X_train.shape))\n",
    "data_tab.add_row('y_train', str(y_train.shape))\n",
    "data_tab.add_row('X_test', str(X_test.shape))\n",
    "data_tab.add_row('y_test', str(y_test.shape))\n",
    "console.log(data_tab)"
   ]
  },
  {
   "cell_type": "code",
   "execution_count": 3,
   "metadata": {},
   "outputs": [
    {
     "data": {
      "application/vnd.jupyter.widget-view+json": {
       "model_id": "9e26d2b21d074a31ab43dc05d533c8a4",
       "version_major": 2,
       "version_minor": 0
      },
      "text/plain": [
       "Output()"
      ]
     },
     "metadata": {},
     "output_type": "display_data"
    },
    {
     "data": {
      "text/html": [
       "<pre style=\"white-space:pre;overflow-x:auto;line-height:normal;font-family:Menlo,'DejaVu Sans Mono',consolas,'Courier New',monospace\"><span style=\"color: #7fbfbf; text-decoration-color: #7fbfbf\">[19:44:20] </span>Epoch <span style=\"color: #008080; text-decoration-color: #008080; font-weight: bold\">0</span>, train error: <span style=\"color: #008080; text-decoration-color: #008080; font-weight: bold\">1.6156902158974984</span>, test error: <span style=\"color: #008080; text-decoration-color: #008080; font-weight: bold\">1.716549029143118</span>                        <a href=\"file:///Users/lucasmrdt/Documents/Dauphine/M2/ML_project/project-recommendation/floOTflix/models/mf.py\" target=\"_blank\"><span style=\"color: #7f7f7f; text-decoration-color: #7f7f7f\">mf.py</span></a><span style=\"color: #7f7f7f; text-decoration-color: #7f7f7f\">:</span><a href=\"file:///Users/lucasmrdt/Documents/Dauphine/M2/ML_project/project-recommendation/floOTflix/models/mf.py#121\" target=\"_blank\"><span style=\"color: #7f7f7f; text-decoration-color: #7f7f7f\">121</span></a>\n",
       "</pre>\n"
      ],
      "text/plain": [
       "\u001b[2;36m[19:44:20]\u001b[0m\u001b[2;36m \u001b[0mEpoch \u001b[1;36m0\u001b[0m, train error: \u001b[1;36m1.6156902158974984\u001b[0m, test error: \u001b[1;36m1.716549029143118\u001b[0m                        \u001b]8;id=681453;file:///Users/lucasmrdt/Documents/Dauphine/M2/ML_project/project-recommendation/floOTflix/models/mf.py\u001b\\\u001b[2mmf.py\u001b[0m\u001b]8;;\u001b\\\u001b[2m:\u001b[0m\u001b]8;id=735392;file:///Users/lucasmrdt/Documents/Dauphine/M2/ML_project/project-recommendation/floOTflix/models/mf.py#121\u001b\\\u001b[2m121\u001b[0m\u001b]8;;\u001b\\\n"
      ]
     },
     "metadata": {},
     "output_type": "display_data"
    },
    {
     "data": {
      "text/html": [
       "<pre style=\"white-space:pre;overflow-x:auto;line-height:normal;font-family:Menlo,'DejaVu Sans Mono',consolas,'Courier New',monospace\"><span style=\"color: #7fbfbf; text-decoration-color: #7fbfbf\">[19:44:22] </span>Epoch <span style=\"color: #008080; text-decoration-color: #008080; font-weight: bold\">200</span>, train error: <span style=\"color: #008080; text-decoration-color: #008080; font-weight: bold\">0.9185038983190618</span>, test error: <span style=\"color: #008080; text-decoration-color: #008080; font-weight: bold\">1.0787135915414254</span>                     <a href=\"file:///Users/lucasmrdt/Documents/Dauphine/M2/ML_project/project-recommendation/floOTflix/models/mf.py\" target=\"_blank\"><span style=\"color: #7f7f7f; text-decoration-color: #7f7f7f\">mf.py</span></a><span style=\"color: #7f7f7f; text-decoration-color: #7f7f7f\">:</span><a href=\"file:///Users/lucasmrdt/Documents/Dauphine/M2/ML_project/project-recommendation/floOTflix/models/mf.py#121\" target=\"_blank\"><span style=\"color: #7f7f7f; text-decoration-color: #7f7f7f\">121</span></a>\n",
       "</pre>\n"
      ],
      "text/plain": [
       "\u001b[2;36m[19:44:22]\u001b[0m\u001b[2;36m \u001b[0mEpoch \u001b[1;36m200\u001b[0m, train error: \u001b[1;36m0.9185038983190618\u001b[0m, test error: \u001b[1;36m1.0787135915414254\u001b[0m                     \u001b]8;id=617889;file:///Users/lucasmrdt/Documents/Dauphine/M2/ML_project/project-recommendation/floOTflix/models/mf.py\u001b\\\u001b[2mmf.py\u001b[0m\u001b]8;;\u001b\\\u001b[2m:\u001b[0m\u001b]8;id=291704;file:///Users/lucasmrdt/Documents/Dauphine/M2/ML_project/project-recommendation/floOTflix/models/mf.py#121\u001b\\\u001b[2m121\u001b[0m\u001b]8;;\u001b\\\n"
      ]
     },
     "metadata": {},
     "output_type": "display_data"
    },
    {
     "data": {
      "text/html": [
       "<pre style=\"white-space:pre;overflow-x:auto;line-height:normal;font-family:Menlo,'DejaVu Sans Mono',consolas,'Courier New',monospace\"><span style=\"color: #7fbfbf; text-decoration-color: #7fbfbf\">[19:44:23] </span>Epoch <span style=\"color: #008080; text-decoration-color: #008080; font-weight: bold\">400</span>, train error: <span style=\"color: #008080; text-decoration-color: #008080; font-weight: bold\">0.824386148476448</span>, test error: <span style=\"color: #008080; text-decoration-color: #008080; font-weight: bold\">0.9318491141373783</span>                      <a href=\"file:///Users/lucasmrdt/Documents/Dauphine/M2/ML_project/project-recommendation/floOTflix/models/mf.py\" target=\"_blank\"><span style=\"color: #7f7f7f; text-decoration-color: #7f7f7f\">mf.py</span></a><span style=\"color: #7f7f7f; text-decoration-color: #7f7f7f\">:</span><a href=\"file:///Users/lucasmrdt/Documents/Dauphine/M2/ML_project/project-recommendation/floOTflix/models/mf.py#121\" target=\"_blank\"><span style=\"color: #7f7f7f; text-decoration-color: #7f7f7f\">121</span></a>\n",
       "</pre>\n"
      ],
      "text/plain": [
       "\u001b[2;36m[19:44:23]\u001b[0m\u001b[2;36m \u001b[0mEpoch \u001b[1;36m400\u001b[0m, train error: \u001b[1;36m0.824386148476448\u001b[0m, test error: \u001b[1;36m0.9318491141373783\u001b[0m                      \u001b]8;id=844962;file:///Users/lucasmrdt/Documents/Dauphine/M2/ML_project/project-recommendation/floOTflix/models/mf.py\u001b\\\u001b[2mmf.py\u001b[0m\u001b]8;;\u001b\\\u001b[2m:\u001b[0m\u001b]8;id=167414;file:///Users/lucasmrdt/Documents/Dauphine/M2/ML_project/project-recommendation/floOTflix/models/mf.py#121\u001b\\\u001b[2m121\u001b[0m\u001b]8;;\u001b\\\n"
      ]
     },
     "metadata": {},
     "output_type": "display_data"
    },
    {
     "data": {
      "text/html": [
       "<pre style=\"white-space:pre;overflow-x:auto;line-height:normal;font-family:Menlo,'DejaVu Sans Mono',consolas,'Courier New',monospace\"><span style=\"color: #7fbfbf; text-decoration-color: #7fbfbf\">[19:44:25] </span>Epoch <span style=\"color: #008080; text-decoration-color: #008080; font-weight: bold\">600</span>, train error: <span style=\"color: #008080; text-decoration-color: #008080; font-weight: bold\">0.7838551598435636</span>, test error: <span style=\"color: #008080; text-decoration-color: #008080; font-weight: bold\">0.8727230120465506</span>                     <a href=\"file:///Users/lucasmrdt/Documents/Dauphine/M2/ML_project/project-recommendation/floOTflix/models/mf.py\" target=\"_blank\"><span style=\"color: #7f7f7f; text-decoration-color: #7f7f7f\">mf.py</span></a><span style=\"color: #7f7f7f; text-decoration-color: #7f7f7f\">:</span><a href=\"file:///Users/lucasmrdt/Documents/Dauphine/M2/ML_project/project-recommendation/floOTflix/models/mf.py#121\" target=\"_blank\"><span style=\"color: #7f7f7f; text-decoration-color: #7f7f7f\">121</span></a>\n",
       "</pre>\n"
      ],
      "text/plain": [
       "\u001b[2;36m[19:44:25]\u001b[0m\u001b[2;36m \u001b[0mEpoch \u001b[1;36m600\u001b[0m, train error: \u001b[1;36m0.7838551598435636\u001b[0m, test error: \u001b[1;36m0.8727230120465506\u001b[0m                     \u001b]8;id=163032;file:///Users/lucasmrdt/Documents/Dauphine/M2/ML_project/project-recommendation/floOTflix/models/mf.py\u001b\\\u001b[2mmf.py\u001b[0m\u001b]8;;\u001b\\\u001b[2m:\u001b[0m\u001b]8;id=225772;file:///Users/lucasmrdt/Documents/Dauphine/M2/ML_project/project-recommendation/floOTflix/models/mf.py#121\u001b\\\u001b[2m121\u001b[0m\u001b]8;;\u001b\\\n"
      ]
     },
     "metadata": {},
     "output_type": "display_data"
    },
    {
     "data": {
      "text/html": [
       "<pre style=\"white-space:pre;overflow-x:auto;line-height:normal;font-family:Menlo,'DejaVu Sans Mono',consolas,'Courier New',monospace\"><span style=\"color: #7fbfbf; text-decoration-color: #7fbfbf\">[19:44:26] </span>Epoch <span style=\"color: #008080; text-decoration-color: #008080; font-weight: bold\">800</span>, train error: <span style=\"color: #008080; text-decoration-color: #008080; font-weight: bold\">0.7603549106834594</span>, test error: <span style=\"color: #008080; text-decoration-color: #008080; font-weight: bold\">0.8437891494103025</span>                     <a href=\"file:///Users/lucasmrdt/Documents/Dauphine/M2/ML_project/project-recommendation/floOTflix/models/mf.py\" target=\"_blank\"><span style=\"color: #7f7f7f; text-decoration-color: #7f7f7f\">mf.py</span></a><span style=\"color: #7f7f7f; text-decoration-color: #7f7f7f\">:</span><a href=\"file:///Users/lucasmrdt/Documents/Dauphine/M2/ML_project/project-recommendation/floOTflix/models/mf.py#121\" target=\"_blank\"><span style=\"color: #7f7f7f; text-decoration-color: #7f7f7f\">121</span></a>\n",
       "</pre>\n"
      ],
      "text/plain": [
       "\u001b[2;36m[19:44:26]\u001b[0m\u001b[2;36m \u001b[0mEpoch \u001b[1;36m800\u001b[0m, train error: \u001b[1;36m0.7603549106834594\u001b[0m, test error: \u001b[1;36m0.8437891494103025\u001b[0m                     \u001b]8;id=398382;file:///Users/lucasmrdt/Documents/Dauphine/M2/ML_project/project-recommendation/floOTflix/models/mf.py\u001b\\\u001b[2mmf.py\u001b[0m\u001b]8;;\u001b\\\u001b[2m:\u001b[0m\u001b]8;id=101414;file:///Users/lucasmrdt/Documents/Dauphine/M2/ML_project/project-recommendation/floOTflix/models/mf.py#121\u001b\\\u001b[2m121\u001b[0m\u001b]8;;\u001b\\\n"
      ]
     },
     "metadata": {},
     "output_type": "display_data"
    },
    {
     "data": {
      "text/html": [
       "<pre style=\"white-space:pre;overflow-x:auto;line-height:normal;font-family:Menlo,'DejaVu Sans Mono',consolas,'Courier New',monospace\"><span style=\"color: #7fbfbf; text-decoration-color: #7fbfbf\">[19:44:27] </span>Epoch <span style=\"color: #008080; text-decoration-color: #008080; font-weight: bold\">1000</span>, train error: <span style=\"color: #008080; text-decoration-color: #008080; font-weight: bold\">0.7445007977088371</span>, test error: <span style=\"color: #008080; text-decoration-color: #008080; font-weight: bold\">0.8278211629260503</span>                    <a href=\"file:///Users/lucasmrdt/Documents/Dauphine/M2/ML_project/project-recommendation/floOTflix/models/mf.py\" target=\"_blank\"><span style=\"color: #7f7f7f; text-decoration-color: #7f7f7f\">mf.py</span></a><span style=\"color: #7f7f7f; text-decoration-color: #7f7f7f\">:</span><a href=\"file:///Users/lucasmrdt/Documents/Dauphine/M2/ML_project/project-recommendation/floOTflix/models/mf.py#121\" target=\"_blank\"><span style=\"color: #7f7f7f; text-decoration-color: #7f7f7f\">121</span></a>\n",
       "</pre>\n"
      ],
      "text/plain": [
       "\u001b[2;36m[19:44:27]\u001b[0m\u001b[2;36m \u001b[0mEpoch \u001b[1;36m1000\u001b[0m, train error: \u001b[1;36m0.7445007977088371\u001b[0m, test error: \u001b[1;36m0.8278211629260503\u001b[0m                    \u001b]8;id=277370;file:///Users/lucasmrdt/Documents/Dauphine/M2/ML_project/project-recommendation/floOTflix/models/mf.py\u001b\\\u001b[2mmf.py\u001b[0m\u001b]8;;\u001b\\\u001b[2m:\u001b[0m\u001b]8;id=846335;file:///Users/lucasmrdt/Documents/Dauphine/M2/ML_project/project-recommendation/floOTflix/models/mf.py#121\u001b\\\u001b[2m121\u001b[0m\u001b]8;;\u001b\\\n"
      ]
     },
     "metadata": {},
     "output_type": "display_data"
    },
    {
     "data": {
      "text/html": [
       "<pre style=\"white-space:pre;overflow-x:auto;line-height:normal;font-family:Menlo,'DejaVu Sans Mono',consolas,'Courier New',monospace\"><span style=\"color: #7fbfbf; text-decoration-color: #7fbfbf\">[19:44:29] </span>Epoch <span style=\"color: #008080; text-decoration-color: #008080; font-weight: bold\">1200</span>, train error: <span style=\"color: #008080; text-decoration-color: #008080; font-weight: bold\">0.7327811642035043</span>, test error: <span style=\"color: #008080; text-decoration-color: #008080; font-weight: bold\">0.8182063833414757</span>                    <a href=\"file:///Users/lucasmrdt/Documents/Dauphine/M2/ML_project/project-recommendation/floOTflix/models/mf.py\" target=\"_blank\"><span style=\"color: #7f7f7f; text-decoration-color: #7f7f7f\">mf.py</span></a><span style=\"color: #7f7f7f; text-decoration-color: #7f7f7f\">:</span><a href=\"file:///Users/lucasmrdt/Documents/Dauphine/M2/ML_project/project-recommendation/floOTflix/models/mf.py#121\" target=\"_blank\"><span style=\"color: #7f7f7f; text-decoration-color: #7f7f7f\">121</span></a>\n",
       "</pre>\n"
      ],
      "text/plain": [
       "\u001b[2;36m[19:44:29]\u001b[0m\u001b[2;36m \u001b[0mEpoch \u001b[1;36m1200\u001b[0m, train error: \u001b[1;36m0.7327811642035043\u001b[0m, test error: \u001b[1;36m0.8182063833414757\u001b[0m                    \u001b]8;id=130889;file:///Users/lucasmrdt/Documents/Dauphine/M2/ML_project/project-recommendation/floOTflix/models/mf.py\u001b\\\u001b[2mmf.py\u001b[0m\u001b]8;;\u001b\\\u001b[2m:\u001b[0m\u001b]8;id=967096;file:///Users/lucasmrdt/Documents/Dauphine/M2/ML_project/project-recommendation/floOTflix/models/mf.py#121\u001b\\\u001b[2m121\u001b[0m\u001b]8;;\u001b\\\n"
      ]
     },
     "metadata": {},
     "output_type": "display_data"
    },
    {
     "data": {
      "text/html": [
       "<pre style=\"white-space:pre;overflow-x:auto;line-height:normal;font-family:Menlo,'DejaVu Sans Mono',consolas,'Courier New',monospace\"><span style=\"color: #7fbfbf; text-decoration-color: #7fbfbf\">[19:44:30] </span>Epoch <span style=\"color: #008080; text-decoration-color: #008080; font-weight: bold\">1400</span>, train error: <span style=\"color: #008080; text-decoration-color: #008080; font-weight: bold\">0.7235684410725234</span>, test error: <span style=\"color: #008080; text-decoration-color: #008080; font-weight: bold\">0.8120443553484956</span>                    <a href=\"file:///Users/lucasmrdt/Documents/Dauphine/M2/ML_project/project-recommendation/floOTflix/models/mf.py\" target=\"_blank\"><span style=\"color: #7f7f7f; text-decoration-color: #7f7f7f\">mf.py</span></a><span style=\"color: #7f7f7f; text-decoration-color: #7f7f7f\">:</span><a href=\"file:///Users/lucasmrdt/Documents/Dauphine/M2/ML_project/project-recommendation/floOTflix/models/mf.py#121\" target=\"_blank\"><span style=\"color: #7f7f7f; text-decoration-color: #7f7f7f\">121</span></a>\n",
       "</pre>\n"
      ],
      "text/plain": [
       "\u001b[2;36m[19:44:30]\u001b[0m\u001b[2;36m \u001b[0mEpoch \u001b[1;36m1400\u001b[0m, train error: \u001b[1;36m0.7235684410725234\u001b[0m, test error: \u001b[1;36m0.8120443553484956\u001b[0m                    \u001b]8;id=869693;file:///Users/lucasmrdt/Documents/Dauphine/M2/ML_project/project-recommendation/floOTflix/models/mf.py\u001b\\\u001b[2mmf.py\u001b[0m\u001b]8;;\u001b\\\u001b[2m:\u001b[0m\u001b]8;id=659176;file:///Users/lucasmrdt/Documents/Dauphine/M2/ML_project/project-recommendation/floOTflix/models/mf.py#121\u001b\\\u001b[2m121\u001b[0m\u001b]8;;\u001b\\\n"
      ]
     },
     "metadata": {},
     "output_type": "display_data"
    },
    {
     "data": {
      "text/html": [
       "<pre style=\"white-space:pre;overflow-x:auto;line-height:normal;font-family:Menlo,'DejaVu Sans Mono',consolas,'Courier New',monospace\"><span style=\"color: #7fbfbf; text-decoration-color: #7fbfbf\">[19:44:32] </span>Epoch <span style=\"color: #008080; text-decoration-color: #008080; font-weight: bold\">1600</span>, train error: <span style=\"color: #008080; text-decoration-color: #008080; font-weight: bold\">0.7159950935777345</span>, test error: <span style=\"color: #008080; text-decoration-color: #008080; font-weight: bold\">0.8079218227988137</span>                    <a href=\"file:///Users/lucasmrdt/Documents/Dauphine/M2/ML_project/project-recommendation/floOTflix/models/mf.py\" target=\"_blank\"><span style=\"color: #7f7f7f; text-decoration-color: #7f7f7f\">mf.py</span></a><span style=\"color: #7f7f7f; text-decoration-color: #7f7f7f\">:</span><a href=\"file:///Users/lucasmrdt/Documents/Dauphine/M2/ML_project/project-recommendation/floOTflix/models/mf.py#121\" target=\"_blank\"><span style=\"color: #7f7f7f; text-decoration-color: #7f7f7f\">121</span></a>\n",
       "</pre>\n"
      ],
      "text/plain": [
       "\u001b[2;36m[19:44:32]\u001b[0m\u001b[2;36m \u001b[0mEpoch \u001b[1;36m1600\u001b[0m, train error: \u001b[1;36m0.7159950935777345\u001b[0m, test error: \u001b[1;36m0.8079218227988137\u001b[0m                    \u001b]8;id=605397;file:///Users/lucasmrdt/Documents/Dauphine/M2/ML_project/project-recommendation/floOTflix/models/mf.py\u001b\\\u001b[2mmf.py\u001b[0m\u001b]8;;\u001b\\\u001b[2m:\u001b[0m\u001b]8;id=201629;file:///Users/lucasmrdt/Documents/Dauphine/M2/ML_project/project-recommendation/floOTflix/models/mf.py#121\u001b\\\u001b[2m121\u001b[0m\u001b]8;;\u001b\\\n"
      ]
     },
     "metadata": {},
     "output_type": "display_data"
    },
    {
     "data": {
      "text/html": [
       "<pre style=\"white-space:pre;overflow-x:auto;line-height:normal;font-family:Menlo,'DejaVu Sans Mono',consolas,'Courier New',monospace\"><span style=\"color: #7fbfbf; text-decoration-color: #7fbfbf\">[19:44:33] </span>Epoch <span style=\"color: #008080; text-decoration-color: #008080; font-weight: bold\">1800</span>, train error: <span style=\"color: #008080; text-decoration-color: #008080; font-weight: bold\">0.7095507632143124</span>, test error: <span style=\"color: #008080; text-decoration-color: #008080; font-weight: bold\">0.8050873507377602</span>                    <a href=\"file:///Users/lucasmrdt/Documents/Dauphine/M2/ML_project/project-recommendation/floOTflix/models/mf.py\" target=\"_blank\"><span style=\"color: #7f7f7f; text-decoration-color: #7f7f7f\">mf.py</span></a><span style=\"color: #7f7f7f; text-decoration-color: #7f7f7f\">:</span><a href=\"file:///Users/lucasmrdt/Documents/Dauphine/M2/ML_project/project-recommendation/floOTflix/models/mf.py#121\" target=\"_blank\"><span style=\"color: #7f7f7f; text-decoration-color: #7f7f7f\">121</span></a>\n",
       "</pre>\n"
      ],
      "text/plain": [
       "\u001b[2;36m[19:44:33]\u001b[0m\u001b[2;36m \u001b[0mEpoch \u001b[1;36m1800\u001b[0m, train error: \u001b[1;36m0.7095507632143124\u001b[0m, test error: \u001b[1;36m0.8050873507377602\u001b[0m                    \u001b]8;id=238968;file:///Users/lucasmrdt/Documents/Dauphine/M2/ML_project/project-recommendation/floOTflix/models/mf.py\u001b\\\u001b[2mmf.py\u001b[0m\u001b]8;;\u001b\\\u001b[2m:\u001b[0m\u001b]8;id=810620;file:///Users/lucasmrdt/Documents/Dauphine/M2/ML_project/project-recommendation/floOTflix/models/mf.py#121\u001b\\\u001b[2m121\u001b[0m\u001b]8;;\u001b\\\n"
      ]
     },
     "metadata": {},
     "output_type": "display_data"
    },
    {
     "data": {
      "text/html": [
       "<pre style=\"white-space:pre;overflow-x:auto;line-height:normal;font-family:Menlo,'DejaVu Sans Mono',consolas,'Courier New',monospace\"></pre>\n"
      ],
      "text/plain": []
     },
     "metadata": {},
     "output_type": "display_data"
    },
    {
     "data": {
      "text/html": [
       "<pre style=\"white-space:pre;overflow-x:auto;line-height:normal;font-family:Menlo,'DejaVu Sans Mono',consolas,'Courier New',monospace\">\n",
       "</pre>\n"
      ],
      "text/plain": [
       "\n"
      ]
     },
     "metadata": {},
     "output_type": "display_data"
    },
    {
     "data": {
      "text/html": [
       "<pre style=\"white-space:pre;overflow-x:auto;line-height:normal;font-family:Menlo,'DejaVu Sans Mono',consolas,'Courier New',monospace\"><span style=\"color: #7fbfbf; text-decoration-color: #7fbfbf\">[19:44:35] </span>MF score: <span style=\"color: #008080; text-decoration-color: #008080; font-weight: bold\">0.8031</span>                                                                          <a href=\"file:///var/folders/23/phdc9zdx6bd4kxsb9bfjxbmc0000gn/T/ipykernel_40112/552673376.py\" target=\"_blank\"><span style=\"color: #7f7f7f; text-decoration-color: #7f7f7f\">552673376.py</span></a><span style=\"color: #7f7f7f; text-decoration-color: #7f7f7f\">:</span><a href=\"file:///var/folders/23/phdc9zdx6bd4kxsb9bfjxbmc0000gn/T/ipykernel_40112/552673376.py#6\" target=\"_blank\"><span style=\"color: #7f7f7f; text-decoration-color: #7f7f7f\">6</span></a>\n",
       "</pre>\n"
      ],
      "text/plain": [
       "\u001b[2;36m[19:44:35]\u001b[0m\u001b[2;36m \u001b[0mMF score: \u001b[1;36m0.8031\u001b[0m                                                                          \u001b]8;id=398591;file:///var/folders/23/phdc9zdx6bd4kxsb9bfjxbmc0000gn/T/ipykernel_40112/552673376.py\u001b\\\u001b[2m552673376.py\u001b[0m\u001b]8;;\u001b\\\u001b[2m:\u001b[0m\u001b]8;id=291476;file:///var/folders/23/phdc9zdx6bd4kxsb9bfjxbmc0000gn/T/ipykernel_40112/552673376.py#6\u001b\\\u001b[2m6\u001b[0m\u001b]8;;\u001b\\\n"
      ]
     },
     "metadata": {},
     "output_type": "display_data"
    }
   ],
   "source": [
    "\n",
    "k = 10\n",
    "mf_model = MFModel(m=m, n=n, k=k)\n",
    "mf_model.fit(X_train, y_train, X_test, y_test,\n",
    "                early_stopping=True, n_epochs=2000, l2=1e-2, lr=2, batch_size=None)\n",
    "score = mf_model.score(X_test, y_test)\n",
    "console.log(f'MF score: {score:.4f}')"
   ]
  },
  {
   "cell_type": "code",
   "execution_count": 4,
   "metadata": {},
   "outputs": [
    {
     "name": "stdout",
     "output_type": "stream",
     "text": [
      "(10, 610) (10, 10) (10, 9724)\n"
     ]
    },
    {
     "data": {
      "text/html": [
       "<pre style=\"white-space:pre;overflow-x:auto;line-height:normal;font-family:Menlo,'DejaVu Sans Mono',consolas,'Courier New',monospace\"><span style=\"color: #7fbfbf; text-decoration-color: #7fbfbf\">[19:58:47] </span>RIOT score: <span style=\"color: #008080; text-decoration-color: #008080; font-weight: bold\">3.8890</span>                                                                       <a href=\"file:///var/folders/23/phdc9zdx6bd4kxsb9bfjxbmc0000gn/T/ipykernel_40112/3175392489.py\" target=\"_blank\"><span style=\"color: #7f7f7f; text-decoration-color: #7f7f7f\">3175392489.py</span></a><span style=\"color: #7f7f7f; text-decoration-color: #7f7f7f\">:</span><a href=\"file:///var/folders/23/phdc9zdx6bd4kxsb9bfjxbmc0000gn/T/ipykernel_40112/3175392489.py#7\" target=\"_blank\"><span style=\"color: #7f7f7f; text-decoration-color: #7f7f7f\">7</span></a>\n",
       "</pre>\n"
      ],
      "text/plain": [
       "\u001b[2;36m[19:58:47]\u001b[0m\u001b[2;36m \u001b[0mRIOT score: \u001b[1;36m3.8890\u001b[0m                                                                       \u001b]8;id=372528;file:///var/folders/23/phdc9zdx6bd4kxsb9bfjxbmc0000gn/T/ipykernel_40112/3175392489.py\u001b\\\u001b[2m3175392489.py\u001b[0m\u001b]8;;\u001b\\\u001b[2m:\u001b[0m\u001b]8;id=219684;file:///var/folders/23/phdc9zdx6bd4kxsb9bfjxbmc0000gn/T/ipykernel_40112/3175392489.py#7\u001b\\\u001b[2m7\u001b[0m\u001b]8;;\u001b\\\n"
      ]
     },
     "metadata": {},
     "output_type": "display_data"
    }
   ],
   "source": [
    "U = mf_model.U.detach().cpu().numpy()\n",
    "V = mf_model.V.detach().cpu().numpy()\n",
    "\n",
    "riot_model = RIOTModel(m, n, U, V)\n",
    "riot_model.fit(X_train, y_train)\n",
    "score = riot_model.score(X_test, y_test)\n",
    "console.log(f'RIOT score: {score:.4f}')"
   ]
  },
  {
   "cell_type": "code",
   "execution_count": 5,
   "metadata": {},
   "outputs": [
    {
     "data": {
      "text/plain": [
       "array([[1.06328   , 0.42800823, 1.0211735 , ..., 0.8587269 , 0.9818624 ,\n",
       "        0.7352713 ],\n",
       "       [1.1142061 , 0.66971266, 0.33020785, ..., 0.82146895, 0.3709526 ,\n",
       "        1.0192196 ],\n",
       "       [0.88319534, 0.40820107, 0.41132763, ..., 0.9678624 , 0.8460672 ,\n",
       "        0.85531896],\n",
       "       ...,\n",
       "       [0.65283287, 0.6139604 , 0.8506299 , ..., 0.47651842, 0.5840469 ,\n",
       "        0.6027498 ],\n",
       "       [0.96753967, 0.12115321, 0.50191766, ..., 0.71055263, 0.66607887,\n",
       "        0.9397387 ],\n",
       "       [0.9159048 , 0.62109655, 0.55630535, ..., 0.78296036, 0.78522503,\n",
       "        0.68187165]], dtype=float32)"
      ]
     },
     "execution_count": 5,
     "metadata": {},
     "output_type": "execute_result"
    }
   ],
   "source": [
    "U"
   ]
  },
  {
   "cell_type": "code",
   "execution_count": null,
   "metadata": {},
   "outputs": [],
   "source": []
  }
 ],
 "metadata": {
  "kernelspec": {
   "display_name": "Python 3.10.6 64-bit ('3.10.6')",
   "language": "python",
   "name": "python3"
  },
  "language_info": {
   "codemirror_mode": {
    "name": "ipython",
    "version": 3
   },
   "file_extension": ".py",
   "mimetype": "text/x-python",
   "name": "python",
   "nbconvert_exporter": "python",
   "pygments_lexer": "ipython3",
   "version": "3.10.6"
  },
  "orig_nbformat": 4,
  "vscode": {
   "interpreter": {
    "hash": "3b6b6b371573529cf649067b971942e9de50150bba59427ae37d9fbde90d94a0"
   }
  }
 },
 "nbformat": 4,
 "nbformat_minor": 2
}
