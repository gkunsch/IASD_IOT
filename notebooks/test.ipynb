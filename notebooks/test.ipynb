{
 "cells": [
  {
   "cell_type": "code",
   "execution_count": 9,
   "metadata": {},
   "outputs": [
    {
     "name": "stdout",
     "output_type": "stream",
     "text": [
      "The autoreload extension is already loaded. To reload it, use:\n",
      "  %reload_ext autoreload\n"
     ]
    }
   ],
   "source": [
    "%load_ext autoreload\n",
    "%autoreload 2"
   ]
  },
  {
   "cell_type": "code",
   "execution_count": 10,
   "metadata": {},
   "outputs": [],
   "source": [
    "import random\n",
    "import pandas\n",
    "import optuna\n",
    "from rich.table import Table\n",
    "import torch\n",
    "import numpy as np\n",
    "import matplotlib.pyplot as plt\n",
    "import seaborn as sns\n",
    "\n",
    "from floOTflix.loader import *\n",
    "from floOTflix.models import *\n",
    "from floOTflix.logger import *\n",
    "from floOTflix.constants import *\n",
    "from floOTflix.utils import *\n",
    "from floOTflix.main import *\n",
    "from floOTflix.models.losses import rmse_loss\n",
    "DATASET = 'small'"
   ]
  },
  {
   "cell_type": "code",
   "execution_count": 11,
   "metadata": {},
   "outputs": [
    {
     "data": {
      "text/html": [
       "<pre style=\"white-space:pre;overflow-x:auto;line-height:normal;font-family:Menlo,'DejaVu Sans Mono',consolas,'Courier New',monospace\"><span style=\"color: #7fbfbf; text-decoration-color: #7fbfbf\">[23:20:35] </span>random seed: <span style=\"color: #008080; text-decoration-color: #008080; font-weight: bold\">42</span>, device: cpu                                                             <a href=\"file:///var/folders/23/phdc9zdx6bd4kxsb9bfjxbmc0000gn/T/ipykernel_64599/1967804857.py\" target=\"_blank\"><span style=\"color: #7f7f7f; text-decoration-color: #7f7f7f\">1967804857.py</span></a><span style=\"color: #7f7f7f; text-decoration-color: #7f7f7f\">:</span><a href=\"file:///var/folders/23/phdc9zdx6bd4kxsb9bfjxbmc0000gn/T/ipykernel_64599/1967804857.py#1\" target=\"_blank\"><span style=\"color: #7f7f7f; text-decoration-color: #7f7f7f\">1</span></a>\n",
       "</pre>\n"
      ],
      "text/plain": [
       "\u001b[2;36m[23:20:35]\u001b[0m\u001b[2;36m \u001b[0mrandom seed: \u001b[1;36m42\u001b[0m, device: cpu                                                             \u001b]8;id=198163;file:///var/folders/23/phdc9zdx6bd4kxsb9bfjxbmc0000gn/T/ipykernel_64599/1967804857.py\u001b\\\u001b[2m1967804857.py\u001b[0m\u001b]8;;\u001b\\\u001b[2m:\u001b[0m\u001b]8;id=555230;file:///var/folders/23/phdc9zdx6bd4kxsb9bfjxbmc0000gn/T/ipykernel_64599/1967804857.py#1\u001b\\\u001b[2m1\u001b[0m\u001b]8;;\u001b\\\n"
      ]
     },
     "metadata": {},
     "output_type": "display_data"
    }
   ],
   "source": [
    "console.log(f'random seed: {SEED}, device: {device}')\n",
    "(X_train, Y_train), (X_test, Y_test), (m, n), (user_id_map, movie_id_map) = get_dataset(DATASET)"
   ]
  },
  {
   "cell_type": "code",
   "execution_count": 12,
   "metadata": {},
   "outputs": [
    {
     "name": "stdout",
     "output_type": "stream",
     "text": [
      "      movieId  tagId  relevance\n",
      "1118    481.0    0.0    0.03775\n",
      "1119    481.0    1.0    0.02250\n",
      "1120    481.0    2.0    0.04075\n",
      "1121    481.0    3.0    0.03175\n",
      "1122    481.0    4.0    0.12950\n",
      "1123    481.0    5.0    0.04550\n",
      "1124    481.0    6.0    0.02000\n",
      "1125    481.0    7.0    0.03850\n",
      "1126    481.0    8.0    0.09125\n",
      "1127    481.0    9.0    0.02225\n",
      "2246      1.0    0.0    0.04775\n",
      "2247      1.0    1.0    0.02050\n",
      "2248      1.0    2.0    0.01650\n",
      "2249      1.0    3.0    0.02450\n",
      "2250      1.0    4.0    0.13050\n",
      "2251      1.0    5.0    0.02700\n",
      "2252      1.0    6.0    0.01825\n",
      "2253      1.0    7.0    0.01225\n",
      "2254      1.0    8.0    0.09925\n",
      "2255      1.0    9.0    0.01850\n",
      "3374    482.0    0.0    0.05800\n",
      "3375    482.0    1.0    0.02375\n",
      "3376    482.0    2.0    0.03550\n",
      "3377    482.0    3.0    0.02125\n",
      "3378    482.0    4.0    0.12775\n",
      "3379    482.0    5.0    0.03250\n",
      "3380    482.0    6.0    0.01625\n",
      "3381    482.0    7.0    0.02125\n",
      "3382    482.0    8.0    0.09525\n",
      "3383    482.0    9.0    0.01750\n"
     ]
    }
   ],
   "source": [
    "def load_tags(n_tags, movie_id_map):\n",
    "    df = pandas.read_csv('ml-latest-large/genome-scores.csv')\n",
    "    tags = []\n",
    "\n",
    "    # Takings the more useful tags using STD\n",
    "    for i_tag, sub_df in df.groupby('tagId'):\n",
    "        tags.append((i_tag, sub_df['relevance'].std()))\n",
    "    tags = [i_tag for i_tag,_ in sorted(tags)[-n_tags:]]\n",
    "    tags = {t:i for i,t in enumerate(tags)}\n",
    "    df.movieId = df.movieId.map(movie_id_map)\n",
    "    df.tagId = df.tagId.map(tags)\n",
    "    df = df.dropna()\n",
    "    print(df.head(30))\n",
    "\n",
    "load_tags(10, movie_id_map)"
   ]
  },
  {
   "cell_type": "code",
   "execution_count": 15,
   "metadata": {},
   "outputs": [
    {
     "data": {
      "text/html": [
       "<pre style=\"white-space:pre;overflow-x:auto;line-height:normal;font-family:Menlo,'DejaVu Sans Mono',consolas,'Courier New',monospace\"><span style=\"color: #7fbfbf; text-decoration-color: #7fbfbf\">[23:21:29] </span>MF score: <span style=\"color: #008080; text-decoration-color: #008080; font-weight: bold\">0.7152</span>                                                                              <a href=\"file:///Users/lucasmrdt/Documents/Dauphine/M2/ML_project/project-recommendation/floOTflix/main.py\" target=\"_blank\"><span style=\"color: #7f7f7f; text-decoration-color: #7f7f7f\">main.py</span></a><span style=\"color: #7f7f7f; text-decoration-color: #7f7f7f\">:</span><a href=\"file:///Users/lucasmrdt/Documents/Dauphine/M2/ML_project/project-recommendation/floOTflix/main.py#26\" target=\"_blank\"><span style=\"color: #7f7f7f; text-decoration-color: #7f7f7f\">26</span></a>\n",
       "</pre>\n"
      ],
      "text/plain": [
       "\u001b[2;36m[23:21:29]\u001b[0m\u001b[2;36m \u001b[0mMF score: \u001b[1;36m0.7152\u001b[0m                                                                              \u001b]8;id=27816;file:///Users/lucasmrdt/Documents/Dauphine/M2/ML_project/project-recommendation/floOTflix/main.py\u001b\\\u001b[2mmain.py\u001b[0m\u001b]8;;\u001b\\\u001b[2m:\u001b[0m\u001b]8;id=523120;file:///Users/lucasmrdt/Documents/Dauphine/M2/ML_project/project-recommendation/floOTflix/main.py#26\u001b\\\u001b[2m26\u001b[0m\u001b]8;;\u001b\\\n"
      ]
     },
     "metadata": {},
     "output_type": "display_data"
    },
    {
     "data": {
      "text/html": [
       "<pre style=\"white-space:pre;overflow-x:auto;line-height:normal;font-family:Menlo,'DejaVu Sans Mono',consolas,'Courier New',monospace\"><span style=\"color: #7fbfbf; text-decoration-color: #7fbfbf\">           </span>DeepMF score: <span style=\"color: #008080; text-decoration-color: #008080; font-weight: bold\">0.7995</span>                                                                          <a href=\"file:///Users/lucasmrdt/Documents/Dauphine/M2/ML_project/project-recommendation/floOTflix/main.py\" target=\"_blank\"><span style=\"color: #7f7f7f; text-decoration-color: #7f7f7f\">main.py</span></a><span style=\"color: #7f7f7f; text-decoration-color: #7f7f7f\">:</span><a href=\"file:///Users/lucasmrdt/Documents/Dauphine/M2/ML_project/project-recommendation/floOTflix/main.py#46\" target=\"_blank\"><span style=\"color: #7f7f7f; text-decoration-color: #7f7f7f\">46</span></a>\n",
       "</pre>\n"
      ],
      "text/plain": [
       "\u001b[2;36m          \u001b[0m\u001b[2;36m \u001b[0mDeepMF score: \u001b[1;36m0.7995\u001b[0m                                                                          \u001b]8;id=262711;file:///Users/lucasmrdt/Documents/Dauphine/M2/ML_project/project-recommendation/floOTflix/main.py\u001b\\\u001b[2mmain.py\u001b[0m\u001b]8;;\u001b\\\u001b[2m:\u001b[0m\u001b]8;id=957193;file:///Users/lucasmrdt/Documents/Dauphine/M2/ML_project/project-recommendation/floOTflix/main.py#46\u001b\\\u001b[2m46\u001b[0m\u001b]8;;\u001b\\\n"
      ]
     },
     "metadata": {},
     "output_type": "display_data"
    },
    {
     "name": "stdout",
     "output_type": "stream",
     "text": [
      "x torch.Size([96045, 2])\n"
     ]
    }
   ],
   "source": [
    "mf_model = get_mf_model(DATASET, 'load')\n",
    "U1, V1 = mf_model.get_features(X_train, Y_train)\n",
    "deepmf_model = get_deepmf_model(DATASET, 'load')\n",
    "U2, V2 = deepmf_model.get_features(X_train, Y_train)\n",
    "\n",
    "U = torch.cat([U1, U2], dim=1)\n",
    "V = torch.cat([V1, V2], dim=1)"
   ]
  },
  {
   "cell_type": "code",
   "execution_count": 17,
   "metadata": {},
   "outputs": [
    {
     "data": {
      "text/plain": [
       "tensor([4., 4., 4.,  ..., 5., 5., 3.])"
      ]
     },
     "execution_count": 17,
     "metadata": {},
     "output_type": "execute_result"
    }
   ],
   "source": [
    "Y_train"
   ]
  },
  {
   "cell_type": "code",
   "execution_count": 19,
   "metadata": {},
   "outputs": [
    {
     "name": "stdout",
     "output_type": "stream",
     "text": [
      "Epoch 0, train error: 2.578942940090201e-06, test error: 2.685327444851282e-06\n",
      "Epoch 31, train error: 2.582739625722752e-06, test error: 2.690375822567148e-06\n",
      "Epoch 62, train error: 2.582987917776336e-06, test error: 2.6905811409960734e-06\n",
      "Epoch 93, train error: 2.583075229267706e-06, test error: 2.6906529910775134e-06\n",
      "Epoch 124, train error: 2.583119794508093e-06, test error: 2.6906905077339616e-06\n",
      "Epoch 155, train error: 2.58314639722812e-06, test error: 2.6907121082331287e-06\n",
      "Epoch 186, train error: 2.5831645871221554e-06, test error: 2.6907273422693834e-06\n",
      "Epoch 217, train error: 2.5831775474216556e-06, test error: 2.690738028832129e-06\n",
      "Epoch 248, train error: 2.583186869742349e-06, test error: 2.6907464416581206e-06\n",
      "Epoch 279, train error: 2.583194600447314e-06, test error: 2.6907521260000067e-06\n",
      "Epoch 310, train error: 2.5832000574155245e-06, test error: 2.6907566734735155e-06\n"
     ]
    },
    {
     "data": {
      "text/plain": [
       "Text(0.5, 0, 'Epoch')"
      ]
     },
     "execution_count": 19,
     "metadata": {},
     "output_type": "execute_result"
    },
    {
     "data": {
      "image/png": "[encoded data removed]",
      "text/plain": [
       "<Figure size 432x288 with 1 Axes>"
      ]
     },
     "metadata": {
      "needs_background": "light"
     },
     "output_type": "display_data"
    }
   ],
   "source": [
    "c0 = torch.ones(m, n)\n",
    "alpha0 = torch.ones(m)\n",
    "beta0 = torch.ones(n)\n",
    "\n",
    "y = torch.cat([Y_train, Y_test])\n",
    "y_train = Y_train / y.sum()\n",
    "y_test = Y_test / y.sum()\n",
    "\n",
    "best_params = {'eps': 7.117140576005326,\n",
    "               'max_clidiot_iter': 313,\n",
    "               'max_prox_iter': 354,\n",
    "               'prox_lr': 0.022761152209025193,\n",
    "               'prox_gamma': 7.97926813515542,\n",
    "               'prox_reg': 0.2444655698983902,\n",
    "               'c0': '1e-2',\n",
    "               'ot_lambda': 7.527066574918035}\n",
    "best_params = {k: v for k, v in best_params.items() if k not in ('c0', 'alpha0', 'beta0')}\n",
    "\n",
    "model = CLIDIOTModel(m, n, **best_params, c0=c0,\n",
    "                     alpha0=alpha0, beta0=beta0, verbose=True)\n",
    "train_errors, test_errors = model.fit(X_train, y_train, X_test, y_test, U, V)\n",
    "\n",
    "sns.lineplot(x=np.arange(len(train_errors)),\n",
    "             y=train_errors, label=\"Train error\")\n",
    "sns.lineplot(x=np.arange(len(test_errors)), y=test_errors, label=\"Test error\")\n",
    "plt.ylabel(\"RMSE loss\")\n",
    "plt.xlabel(\"Epoch\")"
   ]
  },
  {
   "cell_type": "code",
   "execution_count": 20,
   "metadata": {},
   "outputs": [
    {
     "name": "stdout",
     "output_type": "stream",
     "text": [
      "Epoch 0, train loss 3.594303416321054e-05, train error: 0.9066883325576782, test error: 0.966722846031189\n",
      "Epoch 10, train loss -1.929776999531896e-06, train error: 0.9063957333564758, test error: 0.966151237487793\n",
      "Epoch 20, train loss -2.7265366497886134e-06, train error: 0.9063854217529297, test error: 0.9661582112312317\n",
      "Epoch 30, train loss -3.4404351936245803e-06, train error: 0.9063800573348999, test error: 0.9661480188369751\n",
      "Epoch 40, train loss -4.2420424506417476e-06, train error: 0.9063925743103027, test error: 0.9661465287208557\n",
      "Epoch 50, train loss -5.072668955108384e-06, train error: 0.9063836932182312, test error: 0.9661487936973572\n",
      "Epoch 60, train loss -5.9003846217819955e-06, train error: 0.9063853025436401, test error: 0.9661509394645691\n",
      "Epoch 70, train loss -6.723684236931149e-06, train error: 0.9063865542411804, test error: 0.966152012348175\n",
      "Epoch 80, train loss -7.544530944869621e-06, train error: 0.906387209892273, test error: 0.9661528468132019\n",
      "Epoch 90, train loss -8.364228960999753e-06, train error: 0.9063876271247864, test error: 0.9661530256271362\n"
     ]
    },
    {
     "data": {
      "text/plain": [
       "([0.9066883325576782,\n",
       "  0.9063957333564758,\n",
       "  0.9063854217529297,\n",
       "  0.9063800573348999,\n",
       "  0.9063925743103027,\n",
       "  0.9063836932182312,\n",
       "  0.9063853025436401,\n",
       "  0.9063865542411804,\n",
       "  0.906387209892273,\n",
       "  0.9063876271247864],\n",
       " [0.966722846031189,\n",
       "  0.966151237487793,\n",
       "  0.9661582112312317,\n",
       "  0.9661480188369751,\n",
       "  0.9661465287208557,\n",
       "  0.9661487936973572,\n",
       "  0.9661509394645691,\n",
       "  0.966152012348175,\n",
       "  0.9661528468132019,\n",
       "  0.9661530256271362])"
      ]
     },
     "execution_count": 20,
     "metadata": {},
     "output_type": "execute_result"
    }
   ],
   "source": [
    "clidiot_model = CLIDIOTGradientModel(m, n)\n",
    "clidiot_model.fit(X_train, Y_train, X_test, Y_test, U=U, V=V,\n",
    "    eps=1e-4, max_iter=100, lr=1e-1, optimizer='adam')\n",
    "# score = clidiot_model.score(X_test, Y_test)\n",
    "# console.log(f'CLIDIOT score: {score:.4f}')"
   ]
  },
  {
   "cell_type": "code",
   "execution_count": 21,
   "metadata": {},
   "outputs": [
    {
     "name": "stdout",
     "output_type": "stream",
     "text": [
      "tensor(1.8300e-10)\n",
      "tensor(0.0162) tensor(0.0162)\n"
     ]
    },
    {
     "data": {
      "image/png": "[encoded data removed]",
      "text/plain": [
       "<Figure size 432x288 with 1 Axes>"
      ]
     },
     "metadata": {
      "needs_background": "light"
     },
     "output_type": "display_data"
    }
   ],
   "source": [
    "x1, x2 = X_train.T\n",
    "partial_pi = clidiot_model.partial_pi[:len(X_train)]\n",
    "pi_train = clidiot_model.pi_train\n",
    "print(((partial_pi-pi_train)**2).sum().mean().sqrt().item())\n",
    "print(pi_train.sum(), partial_pi.sum())\n",
    "\n",
    "i = 600\n",
    "plt.plot(pi_train.numpy()[i:i+100], label='$\\pi_{train}')\n",
    "plt.plot(partial_pi.numpy()[i:i+100], label='partial_pi')\n",
    "# plt.plot(pi_pred[x1,x2].numpy()[i:i+200], label='pi_pred[x1,x2]')\n",
    "plt.legend()\n",
    "plt.show()"
   ]
  },
  {
   "cell_type": "code",
   "execution_count": 27,
   "metadata": {},
   "outputs": [
    {
     "name": "stdout",
     "output_type": "stream",
     "text": [
      "torch.Size([96045]) torch.Size([610]) torch.Size([9724])\n"
     ]
    },
    {
     "ename": "RuntimeError",
     "evalue": "inconsistent tensor size, expected tensor [96045] and src [610] to have the same number of elements, but got 96045 and 610 elements respectively",
     "output_type": "error",
     "traceback": [
      "\u001b[0;31m---------------------------------------------------------------------------\u001b[0m",
      "\u001b[0;31mRuntimeError\u001b[0m                              Traceback (most recent call last)",
      "\u001b[1;32m/Users/lucasmrdt/Documents/Dauphine/M2/ML_project/project-recommendation/test.ipynb Cell 10\u001b[0m in \u001b[0;36m<cell line: 1>\u001b[0;34m()\u001b[0m\n\u001b[0;32m----> <a href='vscode-notebook-cell:/Users/lucasmrdt/Documents/Dauphine/M2/ML_project/project-recommendation/test.ipynb#X21sZmlsZQ%3D%3D?line=0'>1</a>\u001b[0m y_test_pred \u001b[39m=\u001b[39m clidiot_model\u001b[39m.\u001b[39;49mpredict(X_test, clidiot_model\u001b[39m.\u001b[39;49mcorrelation_matrix)\n",
      "File \u001b[0;32m~/Documents/Dauphine/M2/ML_project/project-recommendation/floOTflix/models/clidiot.py:347\u001b[0m, in \u001b[0;36mCLIDIOTGradientModel.predict\u001b[0;34m(self, x, correlation_matrix)\u001b[0m\n\u001b[1;32m    346\u001b[0m \u001b[39mdef\u001b[39;00m \u001b[39mpredict\u001b[39m(\u001b[39mself\u001b[39m, x, correlation_matrix):\n\u001b[0;32m--> 347\u001b[0m     pi_pred \u001b[39m=\u001b[39m \u001b[39mself\u001b[39;49m\u001b[39m.\u001b[39;49m_ot(correlation_matrix)\n\u001b[1;32m    348\u001b[0m     ratings \u001b[39m=\u001b[39m pi_pred \u001b[39m*\u001b[39m \u001b[39mself\u001b[39m\u001b[39m.\u001b[39mrate_pi_scale\n\u001b[1;32m    349\u001b[0m     ratings \u001b[39m=\u001b[39m torch\u001b[39m.\u001b[39mclamp(ratings, \u001b[39mmin\u001b[39m\u001b[39m=\u001b[39m\u001b[39m0.5\u001b[39m, \u001b[39mmax\u001b[39m\u001b[39m=\u001b[39m\u001b[39m5\u001b[39m)\n",
      "File \u001b[0;32m~/Documents/Dauphine/M2/ML_project/project-recommendation/floOTflix/models/clidiot.py:338\u001b[0m, in \u001b[0;36mCLIDIOTGradientModel._ot\u001b[0;34m(self, C, reg, max_iter)\u001b[0m\n\u001b[1;32m    336\u001b[0m \u001b[39mprint\u001b[39m(C\u001b[39m.\u001b[39mshape, a\u001b[39m.\u001b[39mshape, b\u001b[39m.\u001b[39mshape)\n\u001b[1;32m    337\u001b[0m \u001b[39m# a, b = self.mu.view(-1), self.nu.view(-1)\u001b[39;00m\n\u001b[0;32m--> 338\u001b[0m pi_pred \u001b[39m=\u001b[39m ot\u001b[39m.\u001b[39;49msinkhorn(a, b, C, reg\u001b[39m=\u001b[39;49mreg, max_iter\u001b[39m=\u001b[39;49mmax_iter,\n\u001b[1;32m    339\u001b[0m                       \u001b[39m# method='sinkhorn_epsilon_scaling'\u001b[39;49;00m\n\u001b[1;32m    340\u001b[0m                       )\n\u001b[1;32m    341\u001b[0m \u001b[39m# pi_pred = self._sgd_ot(self.mu, self.nu, C, reg=reg, max_iter=max_iter)\u001b[39;00m\n\u001b[1;32m    343\u001b[0m \u001b[39massert\u001b[39;00m torch\u001b[39m.\u001b[39mabs(pi_pred\u001b[39m.\u001b[39msum()\u001b[39m-\u001b[39m\u001b[39m1\u001b[39m) \u001b[39m<\u001b[39m\u001b[39m=\u001b[39m \u001b[39m1e-3\u001b[39m, \u001b[39mf\u001b[39m\u001b[39m\"\u001b[39m\u001b[39mSum of \u001b[39m\u001b[39m{\u001b[39;00mpi_pred\u001b[39m.\u001b[39msum()\u001b[39m}\u001b[39;00m\u001b[39m\"\u001b[39m\n",
      "File \u001b[0;32m~/.pyenv/versions/3.10.6/lib/python3.10/site-packages/ot/bregman.py:157\u001b[0m, in \u001b[0;36msinkhorn\u001b[0;34m(a, b, M, reg, method, numItermax, stopThr, verbose, log, warn, **kwargs)\u001b[0m\n\u001b[1;32m     30\u001b[0m \u001b[39mr\u001b[39m\u001b[39m\"\"\"\u001b[39;00m\n\u001b[1;32m     31\u001b[0m \u001b[39mSolve the entropic regularization optimal transport problem and return the OT matrix\u001b[39;00m\n\u001b[1;32m     32\u001b[0m \n\u001b[0;32m   (...)\u001b[0m\n\u001b[1;32m    153\u001b[0m \n\u001b[1;32m    154\u001b[0m \u001b[39m\"\"\"\u001b[39;00m\n\u001b[1;32m    156\u001b[0m \u001b[39mif\u001b[39;00m method\u001b[39m.\u001b[39mlower() \u001b[39m==\u001b[39m \u001b[39m'\u001b[39m\u001b[39msinkhorn\u001b[39m\u001b[39m'\u001b[39m:\n\u001b[0;32m--> 157\u001b[0m     \u001b[39mreturn\u001b[39;00m sinkhorn_knopp(a, b, M, reg, numItermax\u001b[39m=\u001b[39;49mnumItermax,\n\u001b[1;32m    158\u001b[0m                           stopThr\u001b[39m=\u001b[39;49mstopThr, verbose\u001b[39m=\u001b[39;49mverbose, log\u001b[39m=\u001b[39;49mlog,\n\u001b[1;32m    159\u001b[0m                           warn\u001b[39m=\u001b[39;49mwarn,\n\u001b[1;32m    160\u001b[0m                           \u001b[39m*\u001b[39;49m\u001b[39m*\u001b[39;49mkwargs)\n\u001b[1;32m    161\u001b[0m \u001b[39melif\u001b[39;00m method\u001b[39m.\u001b[39mlower() \u001b[39m==\u001b[39m \u001b[39m'\u001b[39m\u001b[39msinkhorn_log\u001b[39m\u001b[39m'\u001b[39m:\n\u001b[1;32m    162\u001b[0m     \u001b[39mreturn\u001b[39;00m sinkhorn_log(a, b, M, reg, numItermax\u001b[39m=\u001b[39mnumItermax,\n\u001b[1;32m    163\u001b[0m                         stopThr\u001b[39m=\u001b[39mstopThr, verbose\u001b[39m=\u001b[39mverbose, log\u001b[39m=\u001b[39mlog,\n\u001b[1;32m    164\u001b[0m                         warn\u001b[39m=\u001b[39mwarn,\n\u001b[1;32m    165\u001b[0m                         \u001b[39m*\u001b[39m\u001b[39m*\u001b[39mkwargs)\n",
      "File \u001b[0;32m~/.pyenv/versions/3.10.6/lib/python3.10/site-packages/ot/bregman.py:483\u001b[0m, in \u001b[0;36msinkhorn_knopp\u001b[0;34m(a, b, M, reg, numItermax, stopThr, verbose, log, warn, **kwargs)\u001b[0m\n\u001b[1;32m    481\u001b[0m uprev \u001b[39m=\u001b[39m u\n\u001b[1;32m    482\u001b[0m vprev \u001b[39m=\u001b[39m v\n\u001b[0;32m--> 483\u001b[0m KtransposeU \u001b[39m=\u001b[39m nx\u001b[39m.\u001b[39;49mdot(K\u001b[39m.\u001b[39;49mT, u)\n\u001b[1;32m    484\u001b[0m v \u001b[39m=\u001b[39m b \u001b[39m/\u001b[39m KtransposeU\n\u001b[1;32m    485\u001b[0m u \u001b[39m=\u001b[39m \u001b[39m1.\u001b[39m \u001b[39m/\u001b[39m nx\u001b[39m.\u001b[39mdot(Kp, v)\n",
      "File \u001b[0;32m~/.pyenv/versions/3.10.6/lib/python3.10/site-packages/ot/backend.py:1640\u001b[0m, in \u001b[0;36mTorchBackend.dot\u001b[0;34m(self, a, b)\u001b[0m\n\u001b[1;32m   1639\u001b[0m \u001b[39mdef\u001b[39;00m \u001b[39mdot\u001b[39m(\u001b[39mself\u001b[39m, a, b):\n\u001b[0;32m-> 1640\u001b[0m     \u001b[39mreturn\u001b[39;00m torch\u001b[39m.\u001b[39;49mmatmul(a, b)\n",
      "\u001b[0;31mRuntimeError\u001b[0m: inconsistent tensor size, expected tensor [96045] and src [610] to have the same number of elements, but got 96045 and 610 elements respectively"
     ]
    }
   ],
   "source": [
    "y_test_pred = clidiot_model.predict(X_test, clidiot_model.correlation_matrix)"
   ]
  },
  {
   "cell_type": "code",
   "execution_count": null,
   "metadata": {},
   "outputs": [],
   "source": [
    "\n",
    "\n",
    "random_indexes = np.random.choice(np.arange(len(y_test)), size=100, replace=False)\n",
    "y_test_pred_r = y_test_pred[random_indexes]\n",
    "y_test_r = y_test[random_indexes]\n",
    "y_random_r = random_pred[random_indexes]\n",
    "y_mean_r = mean_pred[random_indexes]\n",
    "y_mf_r = y_pred_mf[random_indexes].detach().numpy()\n",
    "\n",
    "plt.figure(dpi=300)\n",
    "# sns.lineplot(x=range(len(random_indexes)), y=y_random_r, label=\"random\")\n",
    "# sns.lineplot(x=range(len(random_indexes)), y=y_mean_r, label=\"mean\")\n",
    "sns.lineplot(x=range(len(random_indexes)), y=y_mf_r, label=\"mf\")\n",
    "sns.lineplot(x=range(len(random_indexes)), y=y_test_pred_r, label=\"prediction\")\n",
    "sns.lineplot(x=range(len(random_indexes)), y=y_test_r, label=\"ground truth\")\n",
    "plt.ylabel(\"value at point $i, j$\")\n",
    "plt.xlabel(\"index of point $i, j$\")\n",
    "plt.title(\"Prediction vs ground truth\")"
   ]
  },
  {
   "cell_type": "code",
   "execution_count": null,
   "metadata": {},
   "outputs": [],
   "source": [
    "k = U.shape[1]\n",
    "trial = functools.partial(CLIDIOTModel.optuna_trial, m, n, X_train, Y_train, X_test, Y_test, U, V)\n",
    "study = optuna.create_study(direction='minimize')\n",
    "study.optimize(trial, n_trials=100)"
   ]
  },
  {
   "cell_type": "code",
   "execution_count": 100,
   "metadata": {},
   "outputs": [
    {
     "data": {
      "text/plain": [
       "{'eps': 4.879723495593808,\n",
       " 'max_clidiot_iter': 163,\n",
       " 'max_prox_iter': 296,\n",
       " 'prox_lr': 9.337572682972917,\n",
       " 'prox_gamma': 3.711638461142797,\n",
       " 'prox_reg': 7.336713336391838,\n",
       " 'c0': 'ones',\n",
       " 'ot_lambda': 0.1769140284467704}"
      ]
     },
     "execution_count": 100,
     "metadata": {},
     "output_type": "execute_result"
    }
   ],
   "source": [
    "study.best_params"
   ]
  },
  {
   "cell_type": "code",
   "execution_count": 126,
   "metadata": {},
   "outputs": [
    {
     "name": "stdout",
     "output_type": "stream",
     "text": [
      "Epoch 0, train error: 0.9051973819732666, test error: 0.9632509350776672\n",
      "Epoch 10, train error: 0.9067412614822388, test error: 0.965223491191864\n",
      "Epoch 20, train error: 0.906741201877594, test error: 0.9652234315872192\n",
      "Epoch 30, train error: 0.906741201877594, test error: 0.9652233719825745\n",
      "Epoch 40, train error: 0.906741201877594, test error: 0.965223491191864\n",
      "Epoch 50, train error: 0.9067412614822388, test error: 0.9652234315872192\n",
      "Epoch 60, train error: 0.9067412614822388, test error: 0.965223491191864\n",
      "Epoch 70, train error: 0.9067412614822388, test error: 0.965223491191864\n",
      "Epoch 80, train error: 0.906741201877594, test error: 0.965223491191864\n",
      "Epoch 90, train error: 0.906741201877594, test error: 0.965223491191864\n"
     ]
    },
    {
     "data": {
      "text/plain": [
       "<AxesSubplot: >"
      ]
     },
     "execution_count": 126,
     "metadata": {},
     "output_type": "execute_result"
    },
    {
     "data": {
      "image/png": "[encoded data removed]",
      "text/plain": [
       "<Figure size 640x480 with 1 Axes>"
      ]
     },
     "metadata": {},
     "output_type": "display_data"
    }
   ],
   "source": [
    "c0 = torch.ones(m, n)\n",
    "alpha0 = torch.ones(m)\n",
    "beta0 = torch.ones(n)\n",
    "\n",
    "best_params = {\n",
    "    'eps': 1e-1,\n",
    "    'max_clidiot_iter': 100,\n",
    "    'max_prox_iter': 100,\n",
    "    'prox_lr': 1e-2,\n",
    "    'prox_gamma': 1,\n",
    "    'prox_reg': 1e-1,\n",
    "    'ot_lambda': 1,\n",
    "}\n",
    "\n",
    "model = CLIDIOTModel(m, n, **best_params, c0=c0, alpha0=alpha0, beta0=beta0, verbose=True)\n",
    "train_errors, test_errors = model.fit(X_train, Y_train, X_test, Y_test, U, V)\n",
    "\n",
    "sns.lineplot(x=np.arange(len(train_errors)), y=train_errors, label=\"Train error\")\n",
    "sns.lineplot(x=np.arange(len(test_errors)), y=test_errors, label=\"Test error\")"
   ]
  },
  {
   "cell_type": "code",
   "execution_count": 49,
   "metadata": {},
   "outputs": [
    {
     "name": "stdout",
     "output_type": "stream",
     "text": [
      "y_rand tensor(1.5659)\n",
      "y_same tensor(0.9611)\n"
     ]
    }
   ],
   "source": [
    "Y_rand = (torch.randint(7, (len(Y_test),))+3)/2\n",
    "Y_same = torch.ones(Y_test.shape) * Y_train.mean()\n",
    "print('y_rand', rmse_loss(Y_rand, Y_test))\n",
    "print('y_same', rmse_loss(Y_same, Y_test))"
   ]
  },
  {
   "cell_type": "code",
   "execution_count": null,
   "metadata": {},
   "outputs": [],
   "source": []
  }
 ],
 "metadata": {
  "kernelspec": {
   "display_name": "Python 3.10.6 64-bit ('3.10.6')",
   "language": "python",
   "name": "python3"
  },
  "language_info": {
   "codemirror_mode": {
    "name": "ipython",
    "version": 3
   },
   "file_extension": ".py",
   "mimetype": "text/x-python",
   "name": "python",
   "nbconvert_exporter": "python",
   "pygments_lexer": "ipython3",
   "version": "3.10.6"
  },
  "vscode": {
   "interpreter": {
    "hash": "3b6b6b371573529cf649067b971942e9de50150bba59427ae37d9fbde90d94a0"
   }
  }
 },
 "nbformat": 4,
 "nbformat_minor": 4
}
