{
 "cells": [
  {
   "cell_type": "markdown",
   "metadata": {},
   "source": [
    "# Learning Cost Function for Optimal Transport\n",
    "\n",
    "From https://arxiv.org/pdf/2002.09650.pdf"
   ]
  },
  {
   "cell_type": "code",
   "execution_count": 137,
   "metadata": {},
   "outputs": [],
   "source": [
    "import torch\n",
    "import numpy as np\n",
    "import matplotlib.pyplot as plt\n",
    "import ot\n",
    "from typing import Callable\n",
    "from rich.progress import track\n",
    "\n",
    "from floOTflix.models import MFModel\n",
    "from floOTflix.utils import check_k_last_increasing"
   ]
  },
  {
   "cell_type": "markdown",
   "metadata": {},
   "source": [
    "# Generate Toy Dataset\n",
    "\n",
    "To build a toy dataset, we create $r \\in R^m$ and $c \\in R^n$ two random marginal distribution and let $C_{truth} \\in [0, 1]^{m,n}$ be a random cost matrix."
   ]
  },
  {
   "cell_type": "code",
   "execution_count": 18,
   "metadata": {},
   "outputs": [],
   "source": [
    "p = 1\n",
    "m, n = 5, 5\n",
    "k = 2\n",
    "\n",
    "# create random marginal distributions\n",
    "r = 1 + torch.rand(m)\n",
    "c = 1 + torch.rand(n)\n",
    "\n",
    "r /= torch.sum(r)\n",
    "c /= torch.sum(c)\n",
    "\n",
    "# create random cost matrix\n",
    "U_truth = torch.rand(m, k)\n",
    "V_truth = torch.rand(n, k)\n",
    "A_truth = torch.rand(k, k)\n",
    "\n",
    "C_truth = U_truth @ A_truth @ V_truth.t()"
   ]
  },
  {
   "cell_type": "code",
   "execution_count": 19,
   "metadata": {},
   "outputs": [
    {
     "data": {
      "image/png": "[encoded data removed]",
      "text/plain": [
       "<Figure size 432x432 with 4 Axes>"
      ]
     },
     "metadata": {
      "needs_background": "light"
     },
     "output_type": "display_data"
    }
   ],
   "source": [
    "# from https://matplotlib.org/stable/gallery/lines_bars_and_markers/scatter_hist.html\n",
    "\n",
    "# Start with a square Figure.\n",
    "fig = plt.figure(figsize=(6, 6))\n",
    "\n",
    "# Add a gridspec with two rows and two columns and a ratio of 1 to 4 between\n",
    "# the size of the marginal axes and the main axes in both directions.\n",
    "# Also adjust the subplot parameters for a square plot.\n",
    "gs = fig.add_gridspec(2, 2,\n",
    "    width_ratios=(4, 1), height_ratios=(1, 4), left=0.1,\n",
    "    right=0.9, bottom=0.1, top=0.9, wspace=0.05, hspace=0.05)\n",
    "\n",
    "# Create the Axes.\n",
    "ax = fig.add_subplot(gs[1, 0])\n",
    "ax_histx = fig.add_subplot(gs[0, 0], sharex=ax)\n",
    "ax_histy = fig.add_subplot(gs[1, 1], sharey=ax)\n",
    "\n",
    "\n",
    "sp = ax.imshow(C_truth)\n",
    "fig.colorbar(sp, ax=ax)\n",
    "ax.set_title('$C_{truth}$')\n",
    "\n",
    "ax_histx.tick_params(axis='x', labelbottom=False)\n",
    "ax_histx.bar(np.arange(m), r)\n",
    "ax_histx.set_title('$r$')\n",
    "\n",
    "ax_histy.tick_params(axis='y', labelleft=False)\n",
    "ax_histy.barh(np.arange(n), c)\n",
    "ax_histy.set_title('$c$')\n",
    "\n",
    "plt.show()"
   ]
  },
  {
   "cell_type": "code",
   "execution_count": 20,
   "metadata": {},
   "outputs": [],
   "source": [
    "eps = 1e-1\n",
    "pi_sample = ot.sinkhorn(r, c, C_truth, reg=eps, numItermax=100_000)"
   ]
  },
  {
   "cell_type": "code",
   "execution_count": 21,
   "metadata": {},
   "outputs": [
    {
     "data": {
      "image/png": "[encoded data removed]",
      "text/plain": [
       "<Figure size 432x288 with 2 Axes>"
      ]
     },
     "metadata": {
      "needs_background": "light"
     },
     "output_type": "display_data"
    },
    {
     "name": "stdout",
     "output_type": "stream",
     "text": [
      "Min=0.0008362142252735794, Max=0.1390657275915146, Sum=1.0\n"
     ]
    }
   ],
   "source": [
    "sp = plt.imshow(pi_sample)\n",
    "plt.title('$\\pi_{sample}$')\n",
    "plt.colorbar()\n",
    "plt.show()\n",
    "\n",
    "pi_min = pi_sample.min()\n",
    "pi_max = pi_sample.max()\n",
    "\n",
    "print(f\"Min={pi_min}, Max={pi_max}, Sum={pi_sample.sum()}\")"
   ]
  },
  {
   "cell_type": "markdown",
   "metadata": {},
   "source": [
    "# Tools"
   ]
  },
  {
   "cell_type": "code",
   "execution_count": 132,
   "metadata": {},
   "outputs": [],
   "source": [
    "def get_loss(C):\n",
    "    return ((C - C_truth)**2).sum().item()"
   ]
  },
  {
   "cell_type": "markdown",
   "metadata": {},
   "source": [
    "# CLIDIOT (Cost Learning in Discrete Inverse OT) Algorithm\n"
   ]
  },
  {
   "cell_type": "code",
   "execution_count": 174,
   "metadata": {},
   "outputs": [],
   "source": [
    "\n",
    "def CLIDIOT(pi_sample, prox_fn: Callable[[torch.TensorType], torch.TensorType], c_init, alpha_init, beta_init, eps=1e-1, max_iter=100, num_eps=1e-6):\n",
    "    m, n = pi_sample.shape\n",
    "    mu, nu = pi_sample@torch.ones(m), pi_sample.t()@torch.ones(n)\n",
    "    c, alpha, beta = c_init, alpha_init, beta_init\n",
    "    u, v = torch.exp(alpha / eps), torch.exp(beta / eps)\n",
    "    losses = []\n",
    "    for i in range(max_iter):\n",
    "        K = torch.exp(-c / eps)\n",
    "        u = mu / (K@v + num_eps)\n",
    "        v = nu / (K.t()@u + num_eps)\n",
    "        K = pi_sample / (torch.outer(u, v.t()) + num_eps)\n",
    "        # K = pi_sample / (u@v.t() + num_eps)\n",
    "        c = prox_fn(-eps * torch.log(K + num_eps))\n",
    "        loss = get_loss(c)\n",
    "        losses.append(loss)\n",
    "\n",
    "        print(f\"loss[{i}]: {loss}\")\n",
    "        if check_k_last_increasing(losses, 5):\n",
    "            print(\"Early Stopping.\")\n",
    "            break\n",
    "    return c"
   ]
  },
  {
   "cell_type": "code",
   "execution_count": 175,
   "metadata": {},
   "outputs": [],
   "source": [
    "def plot_c_pred(C_pred):\n",
    "    C_pred = C_pred.detach().numpy()\n",
    "\n",
    "    fig, (ax1, ax2) = plt.subplots(1, 2, figsize=(10, 5))\n",
    "    ax1.imshow(C_truth)\n",
    "    ax1.set_title('$C_{truth}$')\n",
    "    ax2.imshow(C_pred)\n",
    "    ax2.set_title('$C_{pred}$')\n",
    "    fig.subplots_adjust(right=0.85)\n",
    "    cbar_ax = fig.add_axes([0.88, 0.15, 0.04, 0.7])\n",
    "    fig.colorbar(sp, cax=cbar_ax)\n",
    "    plt.show()"
   ]
  },
  {
   "cell_type": "code",
   "execution_count": 189,
   "metadata": {},
   "outputs": [
    {
     "data": {
      "image/png": "[encoded data removed]",
      "text/plain": [
       "<Figure size 720x360 with 3 Axes>"
      ]
     },
     "metadata": {
      "needs_background": "light"
     },
     "output_type": "display_data"
    }
   ],
   "source": [
    "N = m * n\n",
    "N_train = int(.7 * N)\n",
    "\n",
    "train_index = np.random.choice(N, N_train, replace=False)\n",
    "test_index = np.setdiff1d(np.arange(N), train_index)\n",
    "\n",
    "train_index = np.unravel_index(train_index, (m, n))\n",
    "test_index = np.unravel_index(test_index, (m, n))\n",
    "\n",
    "X_train = torch.from_numpy(np.array(train_index).T)\n",
    "y_train = pi_sample[train_index]\n",
    "pi_train = pi_sample.clone()\n",
    "pi_train[test_index] = np.nan\n",
    "\n",
    "X_test = torch.from_numpy(np.array(test_index).T)\n",
    "y_test = pi_sample[test_index]\n",
    "pi_test = pi_sample.clone()\n",
    "pi_test[train_index] = np.nan\n",
    "\n",
    "fig, (ax1, ax2) = plt.subplots(1, 2, figsize=(10, 5))\n",
    "ax1.imshow(pi_train, vmin=pi_min, vmax=pi_max)\n",
    "ax1.set_title('$\\pi_{train}$')\n",
    "ax2.imshow(pi_test, vmin=pi_min, vmax=pi_max)\n",
    "ax2.set_title('$\\pi_{test}$')\n",
    "fig.subplots_adjust(right=0.85)\n",
    "cbar_ax = fig.add_axes([0.88, 0.15, 0.04, 0.7])\n",
    "fig.colorbar(sp, cax=cbar_ax)\n",
    "plt.show()"
   ]
  },
  {
   "cell_type": "code",
   "execution_count": 190,
   "metadata": {},
   "outputs": [
    {
     "data": {
      "application/vnd.jupyter.widget-view+json": {
       "model_id": "29da618e0ca84bee894dd171c2d5abb2",
       "version_major": 2,
       "version_minor": 0
      },
      "text/plain": [
       "Output()"
      ]
     },
     "metadata": {},
     "output_type": "display_data"
    },
    {
     "data": {
      "text/html": [
       "<pre style=\"white-space:pre;overflow-x:auto;line-height:normal;font-family:Menlo,'DejaVu Sans Mono',consolas,'Courier New',monospace\"><span style=\"color: #7fbfbf; text-decoration-color: #7fbfbf\">[14:06:05] </span>Epoch <span style=\"color: #008080; text-decoration-color: #008080; font-weight: bold\">0</span>, train error: <span style=\"color: #008080; text-decoration-color: #008080; font-weight: bold\">0.2656135559082031</span>, test error: <span style=\"color: #008080; text-decoration-color: #008080; font-weight: bold\">0.2822597920894623</span>                       <a href=\"file:///Users/lucasmrdt/Documents/Dauphine/M2/ML_project/project-recommendation/floOTflix/models/mf.py\" target=\"_blank\"><span style=\"color: #7f7f7f; text-decoration-color: #7f7f7f\">mf.py</span></a><span style=\"color: #7f7f7f; text-decoration-color: #7f7f7f\">:</span><a href=\"file:///Users/lucasmrdt/Documents/Dauphine/M2/ML_project/project-recommendation/floOTflix/models/mf.py#130\" target=\"_blank\"><span style=\"color: #7f7f7f; text-decoration-color: #7f7f7f\">130</span></a>\n",
       "</pre>\n"
      ],
      "text/plain": [
       "\u001b[2;36m[14:06:05]\u001b[0m\u001b[2;36m \u001b[0mEpoch \u001b[1;36m0\u001b[0m, train error: \u001b[1;36m0.2656135559082031\u001b[0m, test error: \u001b[1;36m0.2822597920894623\u001b[0m                       \u001b]8;id=410233;file:///Users/lucasmrdt/Documents/Dauphine/M2/ML_project/project-recommendation/floOTflix/models/mf.py\u001b\\\u001b[2mmf.py\u001b[0m\u001b]8;;\u001b\\\u001b[2m:\u001b[0m\u001b]8;id=337685;file:///Users/lucasmrdt/Documents/Dauphine/M2/ML_project/project-recommendation/floOTflix/models/mf.py#130\u001b\\\u001b[2m130\u001b[0m\u001b]8;;\u001b\\\n"
      ]
     },
     "metadata": {},
     "output_type": "display_data"
    },
    {
     "data": {
      "text/html": [
       "<pre style=\"white-space:pre;overflow-x:auto;line-height:normal;font-family:Menlo,'DejaVu Sans Mono',consolas,'Courier New',monospace\"><span style=\"color: #7fbfbf; text-decoration-color: #7fbfbf\">           </span>Epoch <span style=\"color: #008080; text-decoration-color: #008080; font-weight: bold\">100</span>, train error: <span style=\"color: #008080; text-decoration-color: #008080; font-weight: bold\">0.10055935382843018</span>, test error: <span style=\"color: #008080; text-decoration-color: #008080; font-weight: bold\">0.11746033281087875</span>                   <a href=\"file:///Users/lucasmrdt/Documents/Dauphine/M2/ML_project/project-recommendation/floOTflix/models/mf.py\" target=\"_blank\"><span style=\"color: #7f7f7f; text-decoration-color: #7f7f7f\">mf.py</span></a><span style=\"color: #7f7f7f; text-decoration-color: #7f7f7f\">:</span><a href=\"file:///Users/lucasmrdt/Documents/Dauphine/M2/ML_project/project-recommendation/floOTflix/models/mf.py#130\" target=\"_blank\"><span style=\"color: #7f7f7f; text-decoration-color: #7f7f7f\">130</span></a>\n",
       "</pre>\n"
      ],
      "text/plain": [
       "\u001b[2;36m          \u001b[0m\u001b[2;36m \u001b[0mEpoch \u001b[1;36m100\u001b[0m, train error: \u001b[1;36m0.10055935382843018\u001b[0m, test error: \u001b[1;36m0.11746033281087875\u001b[0m                   \u001b]8;id=633935;file:///Users/lucasmrdt/Documents/Dauphine/M2/ML_project/project-recommendation/floOTflix/models/mf.py\u001b\\\u001b[2mmf.py\u001b[0m\u001b]8;;\u001b\\\u001b[2m:\u001b[0m\u001b]8;id=557188;file:///Users/lucasmrdt/Documents/Dauphine/M2/ML_project/project-recommendation/floOTflix/models/mf.py#130\u001b\\\u001b[2m130\u001b[0m\u001b]8;;\u001b\\\n"
      ]
     },
     "metadata": {},
     "output_type": "display_data"
    },
    {
     "data": {
      "text/html": [
       "<pre style=\"white-space:pre;overflow-x:auto;line-height:normal;font-family:Menlo,'DejaVu Sans Mono',consolas,'Courier New',monospace\"><span style=\"color: #7fbfbf; text-decoration-color: #7fbfbf\">[14:06:06] </span>Epoch <span style=\"color: #008080; text-decoration-color: #008080; font-weight: bold\">200</span>, train error: <span style=\"color: #008080; text-decoration-color: #008080; font-weight: bold\">0.0381368026137352</span>, test error: <span style=\"color: #008080; text-decoration-color: #008080; font-weight: bold\">0.05106022208929062</span>                    <a href=\"file:///Users/lucasmrdt/Documents/Dauphine/M2/ML_project/project-recommendation/floOTflix/models/mf.py\" target=\"_blank\"><span style=\"color: #7f7f7f; text-decoration-color: #7f7f7f\">mf.py</span></a><span style=\"color: #7f7f7f; text-decoration-color: #7f7f7f\">:</span><a href=\"file:///Users/lucasmrdt/Documents/Dauphine/M2/ML_project/project-recommendation/floOTflix/models/mf.py#130\" target=\"_blank\"><span style=\"color: #7f7f7f; text-decoration-color: #7f7f7f\">130</span></a>\n",
       "</pre>\n"
      ],
      "text/plain": [
       "\u001b[2;36m[14:06:06]\u001b[0m\u001b[2;36m \u001b[0mEpoch \u001b[1;36m200\u001b[0m, train error: \u001b[1;36m0.0381368026137352\u001b[0m, test error: \u001b[1;36m0.05106022208929062\u001b[0m                    \u001b]8;id=856746;file:///Users/lucasmrdt/Documents/Dauphine/M2/ML_project/project-recommendation/floOTflix/models/mf.py\u001b\\\u001b[2mmf.py\u001b[0m\u001b]8;;\u001b\\\u001b[2m:\u001b[0m\u001b]8;id=750683;file:///Users/lucasmrdt/Documents/Dauphine/M2/ML_project/project-recommendation/floOTflix/models/mf.py#130\u001b\\\u001b[2m130\u001b[0m\u001b]8;;\u001b\\\n"
      ]
     },
     "metadata": {},
     "output_type": "display_data"
    },
    {
     "data": {
      "text/html": [
       "<pre style=\"white-space:pre;overflow-x:auto;line-height:normal;font-family:Menlo,'DejaVu Sans Mono',consolas,'Courier New',monospace\"><span style=\"color: #7fbfbf; text-decoration-color: #7fbfbf\">           </span>Epoch <span style=\"color: #008080; text-decoration-color: #008080; font-weight: bold\">300</span>, train error: <span style=\"color: #008080; text-decoration-color: #008080; font-weight: bold\">0.02578369714319706</span>, test error: <span style=\"color: #008080; text-decoration-color: #008080; font-weight: bold\">0.03776993229985237</span>                   <a href=\"file:///Users/lucasmrdt/Documents/Dauphine/M2/ML_project/project-recommendation/floOTflix/models/mf.py\" target=\"_blank\"><span style=\"color: #7f7f7f; text-decoration-color: #7f7f7f\">mf.py</span></a><span style=\"color: #7f7f7f; text-decoration-color: #7f7f7f\">:</span><a href=\"file:///Users/lucasmrdt/Documents/Dauphine/M2/ML_project/project-recommendation/floOTflix/models/mf.py#130\" target=\"_blank\"><span style=\"color: #7f7f7f; text-decoration-color: #7f7f7f\">130</span></a>\n",
       "</pre>\n"
      ],
      "text/plain": [
       "\u001b[2;36m          \u001b[0m\u001b[2;36m \u001b[0mEpoch \u001b[1;36m300\u001b[0m, train error: \u001b[1;36m0.02578369714319706\u001b[0m, test error: \u001b[1;36m0.03776993229985237\u001b[0m                   \u001b]8;id=818622;file:///Users/lucasmrdt/Documents/Dauphine/M2/ML_project/project-recommendation/floOTflix/models/mf.py\u001b\\\u001b[2mmf.py\u001b[0m\u001b]8;;\u001b\\\u001b[2m:\u001b[0m\u001b]8;id=917603;file:///Users/lucasmrdt/Documents/Dauphine/M2/ML_project/project-recommendation/floOTflix/models/mf.py#130\u001b\\\u001b[2m130\u001b[0m\u001b]8;;\u001b\\\n"
      ]
     },
     "metadata": {},
     "output_type": "display_data"
    },
    {
     "data": {
      "text/html": [
       "<pre style=\"white-space:pre;overflow-x:auto;line-height:normal;font-family:Menlo,'DejaVu Sans Mono',consolas,'Courier New',monospace\"><span style=\"color: #7fbfbf; text-decoration-color: #7fbfbf\">           </span>Early stopping                                                                                 <a href=\"file:///Users/lucasmrdt/Documents/Dauphine/M2/ML_project/project-recommendation/floOTflix/models/mf.py\" target=\"_blank\"><span style=\"color: #7f7f7f; text-decoration-color: #7f7f7f\">mf.py</span></a><span style=\"color: #7f7f7f; text-decoration-color: #7f7f7f\">:</span><a href=\"file:///Users/lucasmrdt/Documents/Dauphine/M2/ML_project/project-recommendation/floOTflix/models/mf.py#125\" target=\"_blank\"><span style=\"color: #7f7f7f; text-decoration-color: #7f7f7f\">125</span></a>\n",
       "</pre>\n"
      ],
      "text/plain": [
       "\u001b[2;36m          \u001b[0m\u001b[2;36m \u001b[0mEarly stopping                                                                                 \u001b]8;id=23939;file:///Users/lucasmrdt/Documents/Dauphine/M2/ML_project/project-recommendation/floOTflix/models/mf.py\u001b\\\u001b[2mmf.py\u001b[0m\u001b]8;;\u001b\\\u001b[2m:\u001b[0m\u001b]8;id=311203;file:///Users/lucasmrdt/Documents/Dauphine/M2/ML_project/project-recommendation/floOTflix/models/mf.py#125\u001b\\\u001b[2m125\u001b[0m\u001b]8;;\u001b\\\n"
      ]
     },
     "metadata": {},
     "output_type": "display_data"
    },
    {
     "data": {
      "text/html": [
       "<pre style=\"white-space:pre;overflow-x:auto;line-height:normal;font-family:Menlo,'DejaVu Sans Mono',consolas,'Courier New',monospace\"></pre>\n"
      ],
      "text/plain": []
     },
     "metadata": {},
     "output_type": "display_data"
    },
    {
     "data": {
      "text/html": [
       "<pre style=\"white-space:pre;overflow-x:auto;line-height:normal;font-family:Menlo,'DejaVu Sans Mono',consolas,'Courier New',monospace\">\n",
       "</pre>\n"
      ],
      "text/plain": [
       "\n"
      ]
     },
     "metadata": {},
     "output_type": "display_data"
    },
    {
     "name": "stdout",
     "output_type": "stream",
     "text": [
      "U: torch.Size([5, 2]) V: torch.Size([5, 2])\n",
      "MFModel score: 0.03754692152142525\n"
     ]
    }
   ],
   "source": [
    "mf_model = MFModel(m, n, k)\n",
    "mf_model.fit(X_train, y_train, X_test, y_test, n_epochs=1000)\n",
    "\n",
    "U, V = mf_model.U, mf_model.V\n",
    "print(f'U: {U.shape} V: {V.shape}')\n",
    "\n",
    "score = mf_model.score(X_test, y_test)\n",
    "print(f\"MFModel score: {score}\")"
   ]
  },
  {
   "cell_type": "code",
   "execution_count": 193,
   "metadata": {},
   "outputs": [],
   "source": [
    "U = U.detach()\n",
    "V = V.detach()\n",
    "# U = torch.rand(m, k)\n",
    "# V = torch.rand(n, k)\n",
    "\n",
    "\n",
    "max_iter_prox = 100\n",
    "gamma = 5\n",
    "eps = .1\n",
    "max_iter = 1000"
   ]
  },
  {
   "cell_type": "code",
   "execution_count": 195,
   "metadata": {},
   "outputs": [
    {
     "data": {
      "image/png": "[encoded data removed]",
      "text/plain": [
       "<Figure size 720x360 with 3 Axes>"
      ]
     },
     "metadata": {
      "needs_background": "light"
     },
     "output_type": "display_data"
    },
    {
     "name": "stdout",
     "output_type": "stream",
     "text": [
      "Init. loss: 17.219938278198242\n",
      "loss[0]: 15.833868026733398\n",
      "loss[1]: 14.937235832214355\n",
      "loss[2]: 14.085887908935547\n",
      "loss[3]: 13.280834197998047\n",
      "loss[4]: 12.522027969360352\n",
      "loss[5]: 11.809005737304688\n",
      "loss[6]: 11.140777587890625\n",
      "loss[7]: 10.51660442352295\n",
      "loss[8]: 9.935297012329102\n",
      "loss[9]: 9.395537376403809\n",
      "loss[10]: 8.896080017089844\n",
      "loss[11]: 8.43543529510498\n",
      "loss[12]: 8.012032508850098\n",
      "loss[13]: 7.6243062019348145\n",
      "loss[14]: 7.270665645599365\n",
      "loss[15]: 6.94960880279541\n",
      "loss[16]: 6.659374237060547\n",
      "loss[17]: 6.398273468017578\n",
      "loss[18]: 6.164570331573486\n",
      "loss[19]: 5.956662178039551\n",
      "loss[20]: 5.772877216339111\n",
      "loss[21]: 5.61152982711792\n",
      "loss[22]: 5.470919609069824\n",
      "loss[23]: 5.349425792694092\n",
      "loss[24]: 5.245336532592773\n",
      "loss[25]: 5.156901836395264\n",
      "loss[26]: 5.082337379455566\n",
      "loss[27]: 5.0199432373046875\n",
      "loss[28]: 4.967937469482422\n",
      "loss[29]: 4.924590110778809\n",
      "loss[30]: 4.888250827789307\n",
      "loss[31]: 4.857357025146484\n",
      "loss[32]: 4.830569744110107\n",
      "loss[33]: 4.806694030761719\n",
      "loss[34]: 4.784797668457031\n",
      "loss[35]: 4.764150619506836\n",
      "loss[36]: 4.744280815124512\n",
      "loss[37]: 4.724905490875244\n",
      "loss[38]: 4.705848693847656\n",
      "loss[39]: 4.68712043762207\n",
      "loss[40]: 4.668785572052002\n",
      "loss[41]: 4.650912284851074\n",
      "loss[42]: 4.6336493492126465\n",
      "loss[43]: 4.617164611816406\n",
      "loss[44]: 4.601557731628418\n",
      "loss[45]: 4.586901664733887\n",
      "loss[46]: 4.57327127456665\n",
      "loss[47]: 4.5607147216796875\n",
      "loss[48]: 4.54925537109375\n",
      "loss[49]: 4.538887977600098\n",
      "loss[50]: 4.5296125411987305\n",
      "loss[51]: 4.52139139175415\n",
      "loss[52]: 4.5141682624816895\n",
      "loss[53]: 4.507874488830566\n",
      "loss[54]: 4.502474784851074\n",
      "loss[55]: 4.497876167297363\n",
      "loss[56]: 4.494045734405518\n",
      "loss[57]: 4.4909162521362305\n",
      "loss[58]: 4.488396167755127\n",
      "loss[59]: 4.4864182472229\n",
      "loss[60]: 4.484941005706787\n",
      "loss[61]: 4.483900547027588\n",
      "loss[62]: 4.483253479003906\n",
      "loss[63]: 4.48291540145874\n",
      "loss[64]: 4.48291015625\n",
      "loss[65]: 4.483119010925293\n",
      "loss[66]: 4.483529090881348\n",
      "loss[67]: 4.484148025512695\n",
      "loss[68]: 4.484898090362549\n",
      "Early Stopping.\n"
     ]
    },
    {
     "data": {
      "image/png": "[encoded data removed]",
      "text/plain": [
       "<Figure size 720x360 with 3 Axes>"
      ]
     },
     "metadata": {
      "needs_background": "light"
     },
     "output_type": "display_data"
    }
   ],
   "source": [
    "\n",
    "U_inv = torch.linalg.pinv(U)\n",
    "V_inv = torch.linalg.pinv(V)\n",
    "\n",
    "A_init = torch.rand(k, k)\n",
    "c_init = U @ A_init @ V.t()\n",
    "\n",
    "plot_c_pred(c_init)\n",
    "print(f\"Init. loss: {get_loss(c_init)}\")\n",
    "\n",
    "alpha_init = torch.rand(U.shape[0])\n",
    "beta_init = torch.rand(V.shape[0])\n",
    "\n",
    "def prox_fn(C):\n",
    "    A_truth = U_inv @ C @ V_inv.t()\n",
    "    A = torch.nn.Parameter(A_truth.clone())\n",
    "    opt = torch.optim.Adam([A])\n",
    "    for i in range(max_iter_prox):\n",
    "        loss = gamma * 1/2 * torch.norm(A - A_truth) + 1/2 * torch.norm(A)\n",
    "        opt.zero_grad()\n",
    "        loss.backward()\n",
    "        opt.step()\n",
    "    A = A.detach()\n",
    "    return U @ A @ V.t()\n",
    "\n",
    "C_pred = CLIDIOT(pi_sample, prox_fn=prox_fn, c_init=c_init, alpha_init=alpha_init, beta_init=beta_init, eps=eps, max_iter=max_iter)\n",
    "\n",
    "plot_c_pred(C_pred)"
   ]
  },
  {
   "cell_type": "code",
   "execution_count": 183,
   "metadata": {},
   "outputs": [],
   "source": [
    "pi_pred = ot.sinkhorn(r, c, C_pred, reg=eps, numItermax=100_000)"
   ]
  },
  {
   "cell_type": "code",
   "execution_count": 184,
   "metadata": {},
   "outputs": [
    {
     "data": {
      "image/png": "[encoded data removed]",
      "text/plain": [
       "<Figure size 432x288 with 2 Axes>"
      ]
     },
     "metadata": {
      "needs_background": "light"
     },
     "output_type": "display_data"
    },
    {
     "name": "stdout",
     "output_type": "stream",
     "text": [
      "Min=0.0008362142252735794, Max=0.1390657275915146, Sum=1.0\n"
     ]
    }
   ],
   "source": [
    "sp = plt.imshow(pi_sample)\n",
    "plt.title('$\\pi_{sample}$')\n",
    "plt.colorbar()\n",
    "plt.show()\n",
    "\n",
    "pi_min = pi_sample.min()\n",
    "pi_max = pi_sample.max()\n",
    "\n",
    "print(f\"Min={pi_min}, Max={pi_max}, Sum={pi_sample.sum()}\")"
   ]
  },
  {
   "cell_type": "code",
   "execution_count": null,
   "metadata": {},
   "outputs": [],
   "source": []
  }
 ],
 "metadata": {
  "kernelspec": {
   "display_name": "Python 3.10.6 64-bit ('3.10.6')",
   "language": "python",
   "name": "python3"
  },
  "language_info": {
   "codemirror_mode": {
    "name": "ipython",
    "version": 3
   },
   "file_extension": ".py",
   "mimetype": "text/x-python",
   "name": "python",
   "nbconvert_exporter": "python",
   "pygments_lexer": "ipython3",
   "version": "3.10.6"
  },
  "orig_nbformat": 4,
  "vscode": {
   "interpreter": {
    "hash": "3b6b6b371573529cf649067b971942e9de50150bba59427ae37d9fbde90d94a0"
   }
  }
 },
 "nbformat": 4,
 "nbformat_minor": 2
}
