{
 "cells": [
  {
   "cell_type": "markdown",
   "metadata": {},
   "source": [
    "# Learning Cost Function for Optimal Transport\n",
    "\n",
    "From https://arxiv.org/pdf/2002.09650.pdf"
   ]
  },
  {
   "cell_type": "code",
   "execution_count": 1,
   "metadata": {},
   "outputs": [
    {
     "name": "stderr",
     "output_type": "stream",
     "text": [
      "2022-10-07 09:10:03.167124: I tensorflow/core/platform/cpu_feature_guard.cc:193] This TensorFlow binary is optimized with oneAPI Deep Neural Network Library (oneDNN) to use the following CPU instructions in performance-critical operations:  AVX2 FMA\n",
      "To enable them in other operations, rebuild TensorFlow with the appropriate compiler flags.\n"
     ]
    }
   ],
   "source": [
    "import torch\n",
    "import numpy as np\n",
    "import matplotlib.pyplot as plt\n",
    "import ot\n",
    "from typing import Callable\n",
    "from rich.progress import track\n",
    "\n",
    "from floOTflix.models import MFModel"
   ]
  },
  {
   "cell_type": "markdown",
   "metadata": {},
   "source": [
    "# CLIDIOT (Cost Learning in Discrete Inverse OT) Algorithm\n"
   ]
  },
  {
   "cell_type": "code",
   "execution_count": 130,
   "metadata": {},
   "outputs": [
    {
     "name": "stdout",
     "output_type": "stream",
     "text": [
      "10 12 9 torch.Size([12, 9])\n",
      "torch.Size([12, 10]) torch.Size([9, 10])\n",
      "1.9127516746520996 1124.421875 3.0430335998535156\n",
      "1.124784231185913 704.2093505859375 2.4550652503967285\n",
      "0.3407881259918213 384.7904052734375 1.8670969009399414\n",
      "0.19789159297943115 173.5919189453125 1.2991029024124146\n",
      "-0.4289841651916504 151.05006408691406 1.2336974143981934\n",
      "-0.8323969841003418 130.90916442871094 1.1804025173187256\n",
      "-1.0612468719482422 120.40129089355469 1.1632521152496338\n",
      "-1.2620580196380615 110.9971694946289 1.1442017555236816\n",
      "-1.467980146408081 102.0067138671875 1.1179625988006592\n",
      "-1.6824092864990234 93.35344696044922 1.0837931632995605\n",
      "-1.9007271528244019 85.15621948242188 1.042244553565979\n",
      "-1.6966724395751953 77.9742431640625 0.9977298378944397\n",
      "-2.2448794841766357 83.41786193847656 1.0594770908355713\n",
      "-2.3687665462493896 89.20297241210938 1.1099259853363037\n",
      "-0.058483242988586426 94.89955139160156 1.1503256559371948\n",
      "-2.510286331176758 128.6595001220703 1.2988592386245728\n",
      "-2.5333640575408936 169.35191345214844 1.432060956954956\n",
      "-2.5724549293518066 214.4145050048828 1.5514960289001465\n",
      "-2.6258740425109863 261.857421875 1.6585307121276855\n",
      "-2.690419912338257 310.16961669921875 1.7543704509735107\n",
      "-2.729811429977417 358.2252502441406 1.8401892185211182\n",
      "-2.0158934593200684 405.4586181640625 1.9191948175430298\n",
      "-2.8891406059265137 462.3135986328125 2.032341957092285\n",
      "-2.9370903968811035 517.5260009765625 2.134185314178467\n",
      "-2.9971253871917725 570.4735107421875 2.2257139682769775\n",
      "-3.068770170211792 620.7254638671875 2.307849645614624\n",
      "-3.1509969234466553 667.9971923828125 2.381423234939575\n",
      "-3.242875337600708 712.1181640625 2.447188138961792\n",
      "-3.343564987182617 753.0064086914062 2.505824565887451\n",
      "-3.452303409576416 790.6480712890625 2.5579519271850586\n"
     ]
    },
    {
     "data": {
      "image/png": "[encoded data removed]",
      "text/plain": [
       "<Figure size 640x480 with 2 Axes>"
      ]
     },
     "metadata": {},
     "output_type": "display_data"
    },
    {
     "data": {
      "image/png": "[encoded data removed]",
      "text/plain": [
       "<Figure size 640x480 with 2 Axes>"
      ]
     },
     "metadata": {},
     "output_type": "display_data"
    }
   ],
   "source": [
    "\n",
    "from cmath import pi\n",
    "\n",
    "\n",
    "def CLIDIOT(pi_sample, prox_fn: Callable[[torch.TensorType], torch.TensorType], c0, eps=1e-1, max_iter=100, delta=1e-2):\n",
    "    m, n = pi_sample.shape\n",
    "    mu, nu = pi_sample @ torch.ones(m, 1), pi_sample.T @ torch.ones(n, 1)\n",
    "    alpha, beta = torch.ones((m,1)), torch.ones((n,1))\n",
    "    u, v = torch.exp(alpha / eps), torch.exp(beta / eps)\n",
    "    c = c0\n",
    "    print('C0', c0)\n",
    "    K = torch.exp(-c0 / eps) # TODO: rm\n",
    "    for _ in range(max_iter):\n",
    "    # for _ in track(range(max_iter), description='CLIDIOT'):\n",
    "        # K = torch.exp(-c / eps)\n",
    "        u = mu / (K @ v)\n",
    "        v = nu / (K.T @ u)\n",
    "        K = pi_sample / (u @ v.T)\n",
    "        # c_next = prox_fn(K)\n",
    "        # print('K', K)\n",
    "        # print('uv', [float(x) for x in u], [float(x) for x in v])\n",
    "        # if torch.norm(c_next - c) < delta:\n",
    "        #     break\n",
    "        # c = c_next\n",
    "    return c\n",
    "\n",
    "def CLIDIOT_pure(pi_sample, eps=1e-1, max_iter=100, delta=1e-6):\n",
    "    def prox_fn(K):\n",
    "        return -eps * torch.log(K)\n",
    "    m, n = pi_sample.shape\n",
    "    c0 = torch.ones((m,n)) - torch.eye(m)\n",
    "    return CLIDIOT(pi_sample, prox_fn, c0, eps, max_iter, delta)\n",
    "\n",
    "def CLIDIOT_symmetric(pi_sample, eps=1e-1, max_iter=100, delta=1e-6):\n",
    "    def prox_fn(K):\n",
    "        c_hat = -eps * torch.log(K)\n",
    "        return (c_hat + c_hat.t())/2\n",
    "\n",
    "    m, n = pi_sample.shape\n",
    "    c0 = torch.ones((m,n)) - torch.eye(m)\n",
    "    return CLIDIOT(pi_sample, prox_fn, c0, eps, max_iter, delta)\n",
    "\n",
    "def CLIDIOT_affinity(pi_sample, U, V, eps=1e-1, max_iter=100, delta=1e-6):\n",
    "    U_inv = torch.linalg.pinv(U)\n",
    "    V_inv = torch.linalg.pinv(V)\n",
    "\n",
    "    def prox_fn(K):\n",
    "        return -eps * U.t() @ U_inv.t()@torch.log(K)@V_inv @ V\n",
    "\n",
    "    m, n = pi_sample.shape\n",
    "    p, q = U.shape[0], V.shape[0]\n",
    "    a0 = torch.ones((p,q))\n",
    "    c0 = U.t().mm(a0).mm(V)\n",
    "    return CLIDIOT(pi_sample, prox_fn, c0, eps, max_iter, delta)\n",
    "\n",
    "def CLIDIOT_affinity(pi_sample, U, V, eps=1e-2, max_iter=100, opti='adam', lr=1e-1):\n",
    "    _, k = U.shape\n",
    "    m, n = pi_sample.shape\n",
    "    print(k, m, n, pi_sample.shape)\n",
    "    print(U.shape, V.shape)\n",
    "    mu, nu = pi_sample @ torch.ones(n, 1), pi_sample.T @ torch.ones(m, 1)\n",
    "    alpha, beta = torch.rand((m,1), requires_grad=True), torch.rand((n,1), requires_grad=True)\n",
    "    A = torch.rand((k, k), requires_grad=True)\n",
    "    vars = [alpha, beta, A]\n",
    "    if opti == 'sgd':\n",
    "        optimizer = torch.optim.SGD(vars, lr=lr)\n",
    "    elif opti == 'adam':\n",
    "        optimizer = torch.optim.Adam(vars, lr=lr)\n",
    "    else:\n",
    "        assert False, f\"Optimizer {opti} doesn't exists\"\n",
    "    \n",
    "    for _ in range(max_iter):\n",
    "        optimizer.zero_grad()\n",
    "        C = U @ A @ V.T\n",
    "        loss = (eps * torch.exp(\n",
    "            alpha.expand(m, n) + beta.T.expand(m, n) - C / eps\n",
    "        ).sum() - alpha.T @ mu - beta.T @ nu + (C * pi_sample).sum()).view((1,))\n",
    "        loss.backward()\n",
    "        optimizer.step()\n",
    "        with torch.no_grad():\n",
    "            C[:] = C.clamp(min=0)\n",
    "        print(float(loss), float(((C-C_truth)**2).sum()), float((C * pi_sample).sum()))\n",
    "    return C\n",
    "\n",
    "C_pred = CLIDIOT_affinity(pi_sample, U, V, max_iter=30)\n",
    "plt.imshow(C_pred.detach().numpy());plt.colorbar();plt.show()\n",
    "plt.imshow(C_truth.detach().numpy());plt.colorbar();plt.show()"
   ]
  },
  {
   "cell_type": "markdown",
   "metadata": {},
   "source": [
    "# Toy Dataset\n",
    "\n",
    "To build a toy dataset, we create $r \\in R^m$ and $c \\in R^n$ two random marginal distribution and let $C_{truth} \\in [0, 1]^{m,n}$ be a random cost matrix."
   ]
  },
  {
   "cell_type": "code",
   "execution_count": 112,
   "metadata": {},
   "outputs": [],
   "source": [
    "p = 1\n",
    "m, n = 12, 9\n",
    "\n",
    "# create random marginal distributions\n",
    "r = 1 + torch.rand(m)\n",
    "c = 1 + torch.rand(n)\n",
    "\n",
    "r /= torch.sum(r)\n",
    "c /= torch.sum(c)\n",
    "\n",
    "# create random cost matrix\n",
    "C_truth = torch.rand(m, n)"
   ]
  },
  {
   "cell_type": "code",
   "execution_count": 113,
   "metadata": {},
   "outputs": [
    {
     "data": {
      "image/png": "[encoded data removed]",
      "text/plain": [
       "<Figure size 600x600 with 4 Axes>"
      ]
     },
     "metadata": {},
     "output_type": "display_data"
    }
   ],
   "source": [
    "# from https://matplotlib.org/stable/gallery/lines_bars_and_markers/scatter_hist.html\n",
    "\n",
    "# Start with a square Figure.\n",
    "fig = plt.figure(figsize=(6, 6))\n",
    "\n",
    "# Add a gridspec with two rows and two columns and a ratio of 1 to 4 between\n",
    "# the size of the marginal axes and the main axes in both directions.\n",
    "# Also adjust the subplot parameters for a square plot.\n",
    "gs = fig.add_gridspec(2, 2,\n",
    "    width_ratios=(4, 1), height_ratios=(1, 4), left=0.1,\n",
    "    right=0.9, bottom=0.1, top=0.9, wspace=0.05, hspace=0.05)\n",
    "\n",
    "# Create the Axes.\n",
    "ax = fig.add_subplot(gs[1, 0])\n",
    "ax_histx = fig.add_subplot(gs[0, 0], sharex=ax)\n",
    "ax_histy = fig.add_subplot(gs[1, 1], sharey=ax)\n",
    "\n",
    "\n",
    "sp = ax.imshow(C_truth)\n",
    "fig.colorbar(sp, ax=ax)\n",
    "ax.set_title('$C_{truth}$')\n",
    "\n",
    "ax_histx.tick_params(axis='x', labelbottom=False)\n",
    "ax_histx.bar(np.arange(m), r)\n",
    "ax_histx.set_title('$r$')\n",
    "\n",
    "ax_histy.tick_params(axis='y', labelleft=False)\n",
    "ax_histy.barh(np.arange(n), c)\n",
    "ax_histy.set_title('$c$')\n",
    "\n",
    "plt.show()"
   ]
  },
  {
   "cell_type": "code",
   "execution_count": 114,
   "metadata": {},
   "outputs": [
    {
     "name": "stderr",
     "output_type": "stream",
     "text": [
      "/usr/local/anaconda3/lib/python3.9/site-packages/ot/bregman.py:517: UserWarning: Sinkhorn did not converge. You might want to increase the number of iterations `numItermax` or the regularization parameter `reg`.\n",
      "  warnings.warn(\"Sinkhorn did not converge. You might want to \"\n"
     ]
    }
   ],
   "source": [
    "eps = 1e-2\n",
    "pi_sample = ot.sinkhorn(r, c, C_truth, reg=eps)\n",
    "pi_sample /= pi_sample.sum()"
   ]
  },
  {
   "cell_type": "code",
   "execution_count": 115,
   "metadata": {},
   "outputs": [
    {
     "data": {
      "image/png": "[encoded data removed]",
      "text/plain": [
       "<Figure size 640x480 with 2 Axes>"
      ]
     },
     "metadata": {},
     "output_type": "display_data"
    }
   ],
   "source": [
    "plt.imshow(pi_sample)\n",
    "plt.colorbar()\n",
    "plt.show()"
   ]
  },
  {
   "cell_type": "code",
   "execution_count": 122,
   "metadata": {},
   "outputs": [
    {
     "data": {
      "application/vnd.jupyter.widget-view+json": {
       "model_id": "4d019a77fc544c6d9668b63479f98f48",
       "version_major": 2,
       "version_minor": 0
      },
      "text/plain": [
       "Output()"
      ]
     },
     "metadata": {},
     "output_type": "display_data"
    },
    {
     "data": {
      "text/html": [
       "<pre style=\"white-space:pre;overflow-x:auto;line-height:normal;font-family:Menlo,'DejaVu Sans Mono',consolas,'Courier New',monospace\"><span style=\"color: #7fbfbf; text-decoration-color: #7fbfbf\">[15:02:36] </span>Epoch <span style=\"color: #008080; text-decoration-color: #008080; font-weight: bold\">0</span>, train error: <span style=\"color: #008080; text-decoration-color: #008080; font-weight: bold\">2.7102086544036865</span>, test error: <span style=\"color: #008080; text-decoration-color: #008080; font-weight: bold\">2.1704909801483154</span>                       <a href=\"file:///Users/webalorn/Documents/ens/cours/a3s1/projet-science-des-données/assignment1/_repo/floOTflix/models/mf.py\" target=\"_blank\"><span style=\"color: #7f7f7f; text-decoration-color: #7f7f7f\">mf.py</span></a><span style=\"color: #7f7f7f; text-decoration-color: #7f7f7f\">:</span><a href=\"file:///Users/webalorn/Documents/ens/cours/a3s1/projet-science-des-données/assignment1/_repo/floOTflix/models/mf.py#126\" target=\"_blank\"><span style=\"color: #7f7f7f; text-decoration-color: #7f7f7f\">126</span></a>\n",
       "</pre>\n"
      ],
      "text/plain": [
       "\u001b[2;36m[15:02:36]\u001b[0m\u001b[2;36m \u001b[0mEpoch \u001b[1;36m0\u001b[0m, train error: \u001b[1;36m2.7102086544036865\u001b[0m, test error: \u001b[1;36m2.1704909801483154\u001b[0m                       \u001b]8;id=572122;file:///Users/webalorn/Documents/ens/cours/a3s1/projet-science-des-données/assignment1/_repo/floOTflix/models/mf.py\u001b\\\u001b[2mmf.py\u001b[0m\u001b]8;;\u001b\\\u001b[2m:\u001b[0m\u001b]8;id=862372;file:///Users/webalorn/Documents/ens/cours/a3s1/projet-science-des-données/assignment1/_repo/floOTflix/models/mf.py#126\u001b\\\u001b[2m126\u001b[0m\u001b]8;;\u001b\\\n"
      ]
     },
     "metadata": {},
     "output_type": "display_data"
    },
    {
     "data": {
      "text/html": [
       "<pre style=\"white-space:pre;overflow-x:auto;line-height:normal;font-family:Menlo,'DejaVu Sans Mono',consolas,'Courier New',monospace\"><span style=\"color: #7fbfbf; text-decoration-color: #7fbfbf\">[15:02:37] </span>Epoch <span style=\"color: #008080; text-decoration-color: #008080; font-weight: bold\">100</span>, train error: <span style=\"color: #008080; text-decoration-color: #008080; font-weight: bold\">1.8808461427688599</span>, test error: <span style=\"color: #008080; text-decoration-color: #008080; font-weight: bold\">1.7754303216934204</span>                     <a href=\"file:///Users/webalorn/Documents/ens/cours/a3s1/projet-science-des-données/assignment1/_repo/floOTflix/models/mf.py\" target=\"_blank\"><span style=\"color: #7f7f7f; text-decoration-color: #7f7f7f\">mf.py</span></a><span style=\"color: #7f7f7f; text-decoration-color: #7f7f7f\">:</span><a href=\"file:///Users/webalorn/Documents/ens/cours/a3s1/projet-science-des-données/assignment1/_repo/floOTflix/models/mf.py#126\" target=\"_blank\"><span style=\"color: #7f7f7f; text-decoration-color: #7f7f7f\">126</span></a>\n",
       "</pre>\n"
      ],
      "text/plain": [
       "\u001b[2;36m[15:02:37]\u001b[0m\u001b[2;36m \u001b[0mEpoch \u001b[1;36m100\u001b[0m, train error: \u001b[1;36m1.8808461427688599\u001b[0m, test error: \u001b[1;36m1.7754303216934204\u001b[0m                     \u001b]8;id=610042;file:///Users/webalorn/Documents/ens/cours/a3s1/projet-science-des-données/assignment1/_repo/floOTflix/models/mf.py\u001b\\\u001b[2mmf.py\u001b[0m\u001b]8;;\u001b\\\u001b[2m:\u001b[0m\u001b]8;id=576126;file:///Users/webalorn/Documents/ens/cours/a3s1/projet-science-des-données/assignment1/_repo/floOTflix/models/mf.py#126\u001b\\\u001b[2m126\u001b[0m\u001b]8;;\u001b\\\n"
      ]
     },
     "metadata": {},
     "output_type": "display_data"
    },
    {
     "data": {
      "text/html": [
       "<pre style=\"white-space:pre;overflow-x:auto;line-height:normal;font-family:Menlo,'DejaVu Sans Mono',consolas,'Courier New',monospace\"><span style=\"color: #7fbfbf; text-decoration-color: #7fbfbf\">           </span>Epoch <span style=\"color: #008080; text-decoration-color: #008080; font-weight: bold\">200</span>, train error: <span style=\"color: #008080; text-decoration-color: #008080; font-weight: bold\">1.2752046585083008</span>, test error: <span style=\"color: #008080; text-decoration-color: #008080; font-weight: bold\">1.4598114490509033</span>                     <a href=\"file:///Users/webalorn/Documents/ens/cours/a3s1/projet-science-des-données/assignment1/_repo/floOTflix/models/mf.py\" target=\"_blank\"><span style=\"color: #7f7f7f; text-decoration-color: #7f7f7f\">mf.py</span></a><span style=\"color: #7f7f7f; text-decoration-color: #7f7f7f\">:</span><a href=\"file:///Users/webalorn/Documents/ens/cours/a3s1/projet-science-des-données/assignment1/_repo/floOTflix/models/mf.py#126\" target=\"_blank\"><span style=\"color: #7f7f7f; text-decoration-color: #7f7f7f\">126</span></a>\n",
       "</pre>\n"
      ],
      "text/plain": [
       "\u001b[2;36m          \u001b[0m\u001b[2;36m \u001b[0mEpoch \u001b[1;36m200\u001b[0m, train error: \u001b[1;36m1.2752046585083008\u001b[0m, test error: \u001b[1;36m1.4598114490509033\u001b[0m                     \u001b]8;id=906392;file:///Users/webalorn/Documents/ens/cours/a3s1/projet-science-des-données/assignment1/_repo/floOTflix/models/mf.py\u001b\\\u001b[2mmf.py\u001b[0m\u001b]8;;\u001b\\\u001b[2m:\u001b[0m\u001b]8;id=222774;file:///Users/webalorn/Documents/ens/cours/a3s1/projet-science-des-données/assignment1/_repo/floOTflix/models/mf.py#126\u001b\\\u001b[2m126\u001b[0m\u001b]8;;\u001b\\\n"
      ]
     },
     "metadata": {},
     "output_type": "display_data"
    },
    {
     "data": {
      "text/html": [
       "<pre style=\"white-space:pre;overflow-x:auto;line-height:normal;font-family:Menlo,'DejaVu Sans Mono',consolas,'Courier New',monospace\"><span style=\"color: #7fbfbf; text-decoration-color: #7fbfbf\">           </span>Epoch <span style=\"color: #008080; text-decoration-color: #008080; font-weight: bold\">300</span>, train error: <span style=\"color: #008080; text-decoration-color: #008080; font-weight: bold\">0.8315525650978088</span>, test error: <span style=\"color: #008080; text-decoration-color: #008080; font-weight: bold\">1.2095195055007935</span>                     <a href=\"file:///Users/webalorn/Documents/ens/cours/a3s1/projet-science-des-données/assignment1/_repo/floOTflix/models/mf.py\" target=\"_blank\"><span style=\"color: #7f7f7f; text-decoration-color: #7f7f7f\">mf.py</span></a><span style=\"color: #7f7f7f; text-decoration-color: #7f7f7f\">:</span><a href=\"file:///Users/webalorn/Documents/ens/cours/a3s1/projet-science-des-données/assignment1/_repo/floOTflix/models/mf.py#126\" target=\"_blank\"><span style=\"color: #7f7f7f; text-decoration-color: #7f7f7f\">126</span></a>\n",
       "</pre>\n"
      ],
      "text/plain": [
       "\u001b[2;36m          \u001b[0m\u001b[2;36m \u001b[0mEpoch \u001b[1;36m300\u001b[0m, train error: \u001b[1;36m0.8315525650978088\u001b[0m, test error: \u001b[1;36m1.2095195055007935\u001b[0m                     \u001b]8;id=208059;file:///Users/webalorn/Documents/ens/cours/a3s1/projet-science-des-données/assignment1/_repo/floOTflix/models/mf.py\u001b\\\u001b[2mmf.py\u001b[0m\u001b]8;;\u001b\\\u001b[2m:\u001b[0m\u001b]8;id=198667;file:///Users/webalorn/Documents/ens/cours/a3s1/projet-science-des-données/assignment1/_repo/floOTflix/models/mf.py#126\u001b\\\u001b[2m126\u001b[0m\u001b]8;;\u001b\\\n"
      ]
     },
     "metadata": {},
     "output_type": "display_data"
    },
    {
     "data": {
      "text/html": [
       "<pre style=\"white-space:pre;overflow-x:auto;line-height:normal;font-family:Menlo,'DejaVu Sans Mono',consolas,'Courier New',monospace\"><span style=\"color: #7fbfbf; text-decoration-color: #7fbfbf\">           </span>Epoch <span style=\"color: #008080; text-decoration-color: #008080; font-weight: bold\">400</span>, train error: <span style=\"color: #008080; text-decoration-color: #008080; font-weight: bold\">0.5109273791313171</span>, test error: <span style=\"color: #008080; text-decoration-color: #008080; font-weight: bold\">1.0152589082717896</span>                     <a href=\"file:///Users/webalorn/Documents/ens/cours/a3s1/projet-science-des-données/assignment1/_repo/floOTflix/models/mf.py\" target=\"_blank\"><span style=\"color: #7f7f7f; text-decoration-color: #7f7f7f\">mf.py</span></a><span style=\"color: #7f7f7f; text-decoration-color: #7f7f7f\">:</span><a href=\"file:///Users/webalorn/Documents/ens/cours/a3s1/projet-science-des-données/assignment1/_repo/floOTflix/models/mf.py#126\" target=\"_blank\"><span style=\"color: #7f7f7f; text-decoration-color: #7f7f7f\">126</span></a>\n",
       "</pre>\n"
      ],
      "text/plain": [
       "\u001b[2;36m          \u001b[0m\u001b[2;36m \u001b[0mEpoch \u001b[1;36m400\u001b[0m, train error: \u001b[1;36m0.5109273791313171\u001b[0m, test error: \u001b[1;36m1.0152589082717896\u001b[0m                     \u001b]8;id=550857;file:///Users/webalorn/Documents/ens/cours/a3s1/projet-science-des-données/assignment1/_repo/floOTflix/models/mf.py\u001b\\\u001b[2mmf.py\u001b[0m\u001b]8;;\u001b\\\u001b[2m:\u001b[0m\u001b]8;id=899753;file:///Users/webalorn/Documents/ens/cours/a3s1/projet-science-des-données/assignment1/_repo/floOTflix/models/mf.py#126\u001b\\\u001b[2m126\u001b[0m\u001b]8;;\u001b\\\n"
      ]
     },
     "metadata": {},
     "output_type": "display_data"
    },
    {
     "data": {
      "text/html": [
       "<pre style=\"white-space:pre;overflow-x:auto;line-height:normal;font-family:Menlo,'DejaVu Sans Mono',consolas,'Courier New',monospace\"><span style=\"color: #7fbfbf; text-decoration-color: #7fbfbf\">           </span>Epoch <span style=\"color: #008080; text-decoration-color: #008080; font-weight: bold\">600</span>, train error: <span style=\"color: #008080; text-decoration-color: #008080; font-weight: bold\">0.14976418018341064</span>, test error: <span style=\"color: #008080; text-decoration-color: #008080; font-weight: bold\">0.7640177011489868</span>                    <a href=\"file:///Users/webalorn/Documents/ens/cours/a3s1/projet-science-des-données/assignment1/_repo/floOTflix/models/mf.py\" target=\"_blank\"><span style=\"color: #7f7f7f; text-decoration-color: #7f7f7f\">mf.py</span></a><span style=\"color: #7f7f7f; text-decoration-color: #7f7f7f\">:</span><a href=\"file:///Users/webalorn/Documents/ens/cours/a3s1/projet-science-des-données/assignment1/_repo/floOTflix/models/mf.py#126\" target=\"_blank\"><span style=\"color: #7f7f7f; text-decoration-color: #7f7f7f\">126</span></a>\n",
       "</pre>\n"
      ],
      "text/plain": [
       "\u001b[2;36m          \u001b[0m\u001b[2;36m \u001b[0mEpoch \u001b[1;36m600\u001b[0m, train error: \u001b[1;36m0.14976418018341064\u001b[0m, test error: \u001b[1;36m0.7640177011489868\u001b[0m                    \u001b]8;id=674693;file:///Users/webalorn/Documents/ens/cours/a3s1/projet-science-des-données/assignment1/_repo/floOTflix/models/mf.py\u001b\\\u001b[2mmf.py\u001b[0m\u001b]8;;\u001b\\\u001b[2m:\u001b[0m\u001b]8;id=32610;file:///Users/webalorn/Documents/ens/cours/a3s1/projet-science-des-données/assignment1/_repo/floOTflix/models/mf.py#126\u001b\\\u001b[2m126\u001b[0m\u001b]8;;\u001b\\\n"
      ]
     },
     "metadata": {},
     "output_type": "display_data"
    },
    {
     "data": {
      "text/html": [
       "<pre style=\"white-space:pre;overflow-x:auto;line-height:normal;font-family:Menlo,'DejaVu Sans Mono',consolas,'Courier New',monospace\"><span style=\"color: #7fbfbf; text-decoration-color: #7fbfbf\">           </span>Epoch <span style=\"color: #008080; text-decoration-color: #008080; font-weight: bold\">700</span>, train error: <span style=\"color: #008080; text-decoration-color: #008080; font-weight: bold\">0.06953991949558258</span>, test error: <span style=\"color: #008080; text-decoration-color: #008080; font-weight: bold\">0.6831672787666321</span>                    <a href=\"file:///Users/webalorn/Documents/ens/cours/a3s1/projet-science-des-données/assignment1/_repo/floOTflix/models/mf.py\" target=\"_blank\"><span style=\"color: #7f7f7f; text-decoration-color: #7f7f7f\">mf.py</span></a><span style=\"color: #7f7f7f; text-decoration-color: #7f7f7f\">:</span><a href=\"file:///Users/webalorn/Documents/ens/cours/a3s1/projet-science-des-données/assignment1/_repo/floOTflix/models/mf.py#126\" target=\"_blank\"><span style=\"color: #7f7f7f; text-decoration-color: #7f7f7f\">126</span></a>\n",
       "</pre>\n"
      ],
      "text/plain": [
       "\u001b[2;36m          \u001b[0m\u001b[2;36m \u001b[0mEpoch \u001b[1;36m700\u001b[0m, train error: \u001b[1;36m0.06953991949558258\u001b[0m, test error: \u001b[1;36m0.6831672787666321\u001b[0m                    \u001b]8;id=676863;file:///Users/webalorn/Documents/ens/cours/a3s1/projet-science-des-données/assignment1/_repo/floOTflix/models/mf.py\u001b\\\u001b[2mmf.py\u001b[0m\u001b]8;;\u001b\\\u001b[2m:\u001b[0m\u001b]8;id=578494;file:///Users/webalorn/Documents/ens/cours/a3s1/projet-science-des-données/assignment1/_repo/floOTflix/models/mf.py#126\u001b\\\u001b[2m126\u001b[0m\u001b]8;;\u001b\\\n"
      ]
     },
     "metadata": {},
     "output_type": "display_data"
    },
    {
     "data": {
      "text/html": [
       "<pre style=\"white-space:pre;overflow-x:auto;line-height:normal;font-family:Menlo,'DejaVu Sans Mono',consolas,'Courier New',monospace\"><span style=\"color: #7fbfbf; text-decoration-color: #7fbfbf\">           </span>Epoch <span style=\"color: #008080; text-decoration-color: #008080; font-weight: bold\">800</span>, train error: <span style=\"color: #008080; text-decoration-color: #008080; font-weight: bold\">0.014430965296924114</span>, test error: <span style=\"color: #008080; text-decoration-color: #008080; font-weight: bold\">0.6166811585426331</span>                   <a href=\"file:///Users/webalorn/Documents/ens/cours/a3s1/projet-science-des-données/assignment1/_repo/floOTflix/models/mf.py\" target=\"_blank\"><span style=\"color: #7f7f7f; text-decoration-color: #7f7f7f\">mf.py</span></a><span style=\"color: #7f7f7f; text-decoration-color: #7f7f7f\">:</span><a href=\"file:///Users/webalorn/Documents/ens/cours/a3s1/projet-science-des-données/assignment1/_repo/floOTflix/models/mf.py#126\" target=\"_blank\"><span style=\"color: #7f7f7f; text-decoration-color: #7f7f7f\">126</span></a>\n",
       "</pre>\n"
      ],
      "text/plain": [
       "\u001b[2;36m          \u001b[0m\u001b[2;36m \u001b[0mEpoch \u001b[1;36m800\u001b[0m, train error: \u001b[1;36m0.014430965296924114\u001b[0m, test error: \u001b[1;36m0.6166811585426331\u001b[0m                   \u001b]8;id=56010;file:///Users/webalorn/Documents/ens/cours/a3s1/projet-science-des-données/assignment1/_repo/floOTflix/models/mf.py\u001b\\\u001b[2mmf.py\u001b[0m\u001b]8;;\u001b\\\u001b[2m:\u001b[0m\u001b]8;id=808932;file:///Users/webalorn/Documents/ens/cours/a3s1/projet-science-des-données/assignment1/_repo/floOTflix/models/mf.py#126\u001b\\\u001b[2m126\u001b[0m\u001b]8;;\u001b\\\n"
      ]
     },
     "metadata": {},
     "output_type": "display_data"
    },
    {
     "data": {
      "text/html": [
       "<pre style=\"white-space:pre;overflow-x:auto;line-height:normal;font-family:Menlo,'DejaVu Sans Mono',consolas,'Courier New',monospace\"><span style=\"color: #7fbfbf; text-decoration-color: #7fbfbf\">           </span>Epoch <span style=\"color: #008080; text-decoration-color: #008080; font-weight: bold\">900</span>, train error: <span style=\"color: #008080; text-decoration-color: #008080; font-weight: bold\">0.0008768917177803814</span>, test error: <span style=\"color: #008080; text-decoration-color: #008080; font-weight: bold\">0.584190309047699</span>                   <a href=\"file:///Users/webalorn/Documents/ens/cours/a3s1/projet-science-des-données/assignment1/_repo/floOTflix/models/mf.py\" target=\"_blank\"><span style=\"color: #7f7f7f; text-decoration-color: #7f7f7f\">mf.py</span></a><span style=\"color: #7f7f7f; text-decoration-color: #7f7f7f\">:</span><a href=\"file:///Users/webalorn/Documents/ens/cours/a3s1/projet-science-des-données/assignment1/_repo/floOTflix/models/mf.py#126\" target=\"_blank\"><span style=\"color: #7f7f7f; text-decoration-color: #7f7f7f\">126</span></a>\n",
       "</pre>\n"
      ],
      "text/plain": [
       "\u001b[2;36m          \u001b[0m\u001b[2;36m \u001b[0mEpoch \u001b[1;36m900\u001b[0m, train error: \u001b[1;36m0.0008768917177803814\u001b[0m, test error: \u001b[1;36m0.584190309047699\u001b[0m                   \u001b]8;id=535347;file:///Users/webalorn/Documents/ens/cours/a3s1/projet-science-des-données/assignment1/_repo/floOTflix/models/mf.py\u001b\\\u001b[2mmf.py\u001b[0m\u001b]8;;\u001b\\\u001b[2m:\u001b[0m\u001b]8;id=367551;file:///Users/webalorn/Documents/ens/cours/a3s1/projet-science-des-données/assignment1/_repo/floOTflix/models/mf.py#126\u001b\\\u001b[2m126\u001b[0m\u001b]8;;\u001b\\\n"
      ]
     },
     "metadata": {},
     "output_type": "display_data"
    },
    {
     "data": {
      "text/html": [
       "<pre style=\"white-space:pre;overflow-x:auto;line-height:normal;font-family:Menlo,'DejaVu Sans Mono',consolas,'Courier New',monospace\"></pre>\n"
      ],
      "text/plain": []
     },
     "metadata": {},
     "output_type": "display_data"
    },
    {
     "data": {
      "text/html": [
       "<pre style=\"white-space:pre;overflow-x:auto;line-height:normal;font-family:Menlo,'DejaVu Sans Mono',consolas,'Courier New',monospace\">\n",
       "</pre>\n"
      ],
      "text/plain": [
       "\n"
      ]
     },
     "metadata": {},
     "output_type": "display_data"
    },
    {
     "name": "stdout",
     "output_type": "stream",
     "text": [
      "MFModel score: 0.5612331628799438\n"
     ]
    }
   ],
   "source": [
    "k = 10\n",
    "N_train = 20\n",
    "N_test = 6\n",
    "\n",
    "X_train = torch.stack([\n",
    "    torch.randint(0, m, (N_train,)),\n",
    "    torch.randint(0, n, (N_train,))\n",
    "]).T\n",
    "X_test = torch.stack([\n",
    "    torch.randint(0, m, (N_test,)),\n",
    "    torch.randint(0, n, (N_test,))\n",
    "]).T\n",
    "\n",
    "y_train = pi_sample[X_train[:,0], X_train[:,1]]\n",
    "y_test = pi_sample[X_test[:,0], X_test[:,1]]\n",
    "\n",
    "mf_model = MFModel(m, n, k)\n",
    "mf_model.fit(X_train, y_train, X_test, y_test, n_epochs=1000)\n",
    "score = mf_model.score(X_test, y_test)\n",
    "print(f\"MFModel score: {score}\")"
   ]
  },
  {
   "cell_type": "code",
   "execution_count": 123,
   "metadata": {},
   "outputs": [
    {
     "name": "stdout",
     "output_type": "stream",
     "text": [
      "U: torch.Size([12, 10]) V: torch.Size([9, 10])\n"
     ]
    }
   ],
   "source": [
    "U, V = mf_model.U, mf_model.V\n",
    "print(f'U: {U.shape} V: {V.shape}')"
   ]
  },
  {
   "cell_type": "code",
   "execution_count": 88,
   "metadata": {},
   "outputs": [
    {
     "ename": "TypeError",
     "evalue": "CLIDIOT_affinity() got an unexpected keyword argument 'delta'",
     "output_type": "error",
     "traceback": [
      "\u001b[0;31m---------------------------------------------------------------------------\u001b[0m",
      "\u001b[0;31mTypeError\u001b[0m                                 Traceback (most recent call last)",
      "\u001b[0;32m/var/folders/kc/9p_vps5511gckncpjpnf4cxr0000gn/T/ipykernel_47981/3696842441.py\u001b[0m in \u001b[0;36m<cell line: 1>\u001b[0;34m()\u001b[0m\n\u001b[0;32m----> 1\u001b[0;31m \u001b[0mC_pred\u001b[0m \u001b[0;34m=\u001b[0m \u001b[0mCLIDIOT_affinity\u001b[0m\u001b[0;34m(\u001b[0m\u001b[0mpi_sample\u001b[0m\u001b[0;34m,\u001b[0m \u001b[0mU\u001b[0m\u001b[0;34m.\u001b[0m\u001b[0mt\u001b[0m\u001b[0;34m(\u001b[0m\u001b[0;34m)\u001b[0m\u001b[0;34m,\u001b[0m \u001b[0mV\u001b[0m\u001b[0;34m.\u001b[0m\u001b[0mt\u001b[0m\u001b[0;34m(\u001b[0m\u001b[0;34m)\u001b[0m\u001b[0;34m,\u001b[0m \u001b[0mdelta\u001b[0m\u001b[0;34m=\u001b[0m\u001b[0;36m10e-6\u001b[0m\u001b[0;34m)\u001b[0m\u001b[0;34m\u001b[0m\u001b[0;34m\u001b[0m\u001b[0m\n\u001b[0m",
      "\u001b[0;31mTypeError\u001b[0m: CLIDIOT_affinity() got an unexpected keyword argument 'delta'"
     ]
    }
   ],
   "source": [
    "C_pred = CLIDIOT_affinity(pi_sample, U.t(), V.t(), delta=10e-6)"
   ]
  },
  {
   "cell_type": "code",
   "execution_count": 89,
   "metadata": {},
   "outputs": [
    {
     "ename": "NameError",
     "evalue": "name 'C_star' is not defined",
     "output_type": "error",
     "traceback": [
      "\u001b[0;31m---------------------------------------------------------------------------\u001b[0m",
      "\u001b[0;31mNameError\u001b[0m                                 Traceback (most recent call last)",
      "\u001b[0;32m/var/folders/kc/9p_vps5511gckncpjpnf4cxr0000gn/T/ipykernel_47981/2241665962.py\u001b[0m in \u001b[0;36m<cell line: 1>\u001b[0;34m()\u001b[0m\n\u001b[0;32m----> 1\u001b[0;31m \u001b[0mplt\u001b[0m\u001b[0;34m.\u001b[0m\u001b[0mimshow\u001b[0m\u001b[0;34m(\u001b[0m\u001b[0mC_star\u001b[0m\u001b[0;34m)\u001b[0m\u001b[0;34m\u001b[0m\u001b[0;34m\u001b[0m\u001b[0m\n\u001b[0m\u001b[1;32m      2\u001b[0m \u001b[0mplt\u001b[0m\u001b[0;34m.\u001b[0m\u001b[0mcolorbar\u001b[0m\u001b[0;34m(\u001b[0m\u001b[0;34m)\u001b[0m\u001b[0;34m\u001b[0m\u001b[0;34m\u001b[0m\u001b[0m\n\u001b[1;32m      3\u001b[0m \u001b[0mplt\u001b[0m\u001b[0;34m.\u001b[0m\u001b[0mtitle\u001b[0m\u001b[0;34m(\u001b[0m\u001b[0;34m'$C^*$'\u001b[0m\u001b[0;34m)\u001b[0m\u001b[0;34m\u001b[0m\u001b[0;34m\u001b[0m\u001b[0m\n\u001b[1;32m      4\u001b[0m \u001b[0mplt\u001b[0m\u001b[0;34m.\u001b[0m\u001b[0mshow\u001b[0m\u001b[0;34m(\u001b[0m\u001b[0;34m)\u001b[0m\u001b[0;34m\u001b[0m\u001b[0;34m\u001b[0m\u001b[0m\n",
      "\u001b[0;31mNameError\u001b[0m: name 'C_star' is not defined"
     ]
    }
   ],
   "source": [
    "plt.imshow(C_star)\n",
    "plt.colorbar()\n",
    "plt.title('$C^*$')\n",
    "plt.show()"
   ]
  },
  {
   "cell_type": "code",
   "execution_count": 55,
   "metadata": {},
   "outputs": [
    {
     "data": {
      "text/plain": [
       "tensor([[1, 3],\n",
       "        [3, 1],\n",
       "        [3, 4],\n",
       "        [3, 0],\n",
       "        [1, 1],\n",
       "        [1, 1],\n",
       "        [1, 4],\n",
       "        [4, 4],\n",
       "        [2, 3],\n",
       "        [1, 2]])"
      ]
     },
     "execution_count": 55,
     "metadata": {},
     "output_type": "execute_result"
    }
   ],
   "source": [
    "torch.randint(0, m, (10,2))"
   ]
  },
  {
   "cell_type": "code",
   "execution_count": null,
   "metadata": {},
   "outputs": [],
   "source": []
  }
 ],
 "metadata": {
  "kernelspec": {
   "display_name": "Python 3.10.6 64-bit ('3.10.6')",
   "language": "python",
   "name": "python3"
  },
  "language_info": {
   "codemirror_mode": {
    "name": "ipython",
    "version": 3
   },
   "file_extension": ".py",
   "mimetype": "text/x-python",
   "name": "python",
   "nbconvert_exporter": "python",
   "pygments_lexer": "ipython3",
   "version": "3.10.6"
  },
  "orig_nbformat": 4,
  "vscode": {
   "interpreter": {
    "hash": "3b6b6b371573529cf649067b971942e9de50150bba59427ae37d9fbde90d94a0"
   }
  }
 },
 "nbformat": 4,
 "nbformat_minor": 2
}
